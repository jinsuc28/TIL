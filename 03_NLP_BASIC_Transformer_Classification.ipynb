{
  "cells": [
    {
      "cell_type": "markdown",
      "metadata": {
        "id": "rNCyQbzqIT-w"
      },
      "source": [
        "# NLP BASIC"
      ]
    },
    {
      "cell_type": "markdown",
      "metadata": {
        "id": "YyuYWJFgF22z"
      },
      "source": [
        "##Install Mecab & KoNLPy"
      ]
    },
    {
      "cell_type": "code",
      "execution_count": null,
      "metadata": {
        "id": "NYnijULvF2a6"
      },
      "outputs": [],
      "source": [
        "## 한국어 형태소 분석기로 토크나이징을 해야합니다. konlpy와 mecab을 먼저 설치해봅시다.\n",
        "## 토크나이징을 해서 벡터화시킬 예정입니다.\n",
        "!pip install konlpy\n",
        "!curl -s https://raw.githubusercontent.com/konlpy/konlpy/master/scripts/mecab.sh | bash -x"
      ]
    },
    {
      "cell_type": "markdown",
      "metadata": {
        "id": "wgjG6S6RIUu-"
      },
      "source": [
        "## Google Drive Mount"
      ]
    },
    {
      "cell_type": "code",
      "execution_count": null,
      "metadata": {
        "colab": {
          "base_uri": "https://localhost:8080/"
        },
        "id": "rn3OZjU3ZaFY",
        "outputId": "ddf3f8ac-0e82-4809-d19d-8f31dcbc4ae9"
      },
      "outputs": [
        {
          "output_type": "stream",
          "name": "stdout",
          "text": [
            "Mounted at /content/drive\n"
          ]
        }
      ],
      "source": [
        "from google.colab import drive\n",
        "drive.mount('/content/drive')"
      ]
    },
    {
      "cell_type": "markdown",
      "metadata": {
        "id": "bZuuDJYgF08s"
      },
      "source": [
        "## Import"
      ]
    },
    {
      "cell_type": "code",
      "execution_count": null,
      "metadata": {
        "id": "grgmj1EsZbim"
      },
      "outputs": [],
      "source": [
        "import re\n",
        "import os\n",
        "import gc\n",
        "import time\n",
        "import random\n",
        "import string\n",
        "\n",
        "import copy\n",
        "from copy import deepcopy\n",
        "\n",
        "import numpy as np\n",
        "import pandas as pd\n",
        "\n",
        "import matplotlib.pyplot as plt\n",
        "import seaborn as sns\n",
        "\n",
        "# Utils\n",
        "from tqdm import tqdm\n",
        "\n",
        "# Suppress warnings\n",
        "import warnings\n",
        "warnings.filterwarnings(\"ignore\")\n",
        "\n",
        "# For descriptive error messages\n",
        "os.environ['CUDA_LAUNCH_BLOCKING'] = \"1\""
      ]
    },
    {
      "cell_type": "code",
      "execution_count": null,
      "metadata": {
        "id": "HckcZs_CYvA5"
      },
      "outputs": [],
      "source": [
        "## Pytorch Import\n",
        "import torch \n",
        "import torch.nn as nn\n",
        "\n",
        "from torch.optim import lr_scheduler\n",
        "from torch.utils.data import Dataset, DataLoader"
      ]
    },
    {
      "cell_type": "code",
      "execution_count": null,
      "metadata": {
        "id": "XueO7-ZLy8cQ"
      },
      "outputs": [],
      "source": []
    },
    {
      "cell_type": "markdown",
      "metadata": {
        "id": "RyNhQwN47wZz"
      },
      "source": [
        "## GPU 확인"
      ]
    },
    {
      "cell_type": "code",
      "execution_count": null,
      "metadata": {
        "colab": {
          "base_uri": "https://localhost:8080/"
        },
        "id": "m104cS0w7vfs",
        "outputId": "1548cc03-3f22-41bb-be2b-7c6b9fef6c45"
      },
      "outputs": [
        {
          "output_type": "stream",
          "name": "stdout",
          "text": [
            "Mon Dec 12 06:46:14 2022       \n",
            "+-----------------------------------------------------------------------------+\n",
            "| NVIDIA-SMI 460.32.03    Driver Version: 460.32.03    CUDA Version: 11.2     |\n",
            "|-------------------------------+----------------------+----------------------+\n",
            "| GPU  Name        Persistence-M| Bus-Id        Disp.A | Volatile Uncorr. ECC |\n",
            "| Fan  Temp  Perf  Pwr:Usage/Cap|         Memory-Usage | GPU-Util  Compute M. |\n",
            "|                               |                      |               MIG M. |\n",
            "|===============================+======================+======================|\n",
            "|   0  Tesla T4            Off  | 00000000:00:04.0 Off |                    0 |\n",
            "| N/A   67C    P0    28W /  70W |      0MiB / 15109MiB |      0%      Default |\n",
            "|                               |                      |                  N/A |\n",
            "+-------------------------------+----------------------+----------------------+\n",
            "                                                                               \n",
            "+-----------------------------------------------------------------------------+\n",
            "| Processes:                                                                  |\n",
            "|  GPU   GI   CI        PID   Type   Process name                  GPU Memory |\n",
            "|        ID   ID                                                   Usage      |\n",
            "|=============================================================================|\n",
            "|  No running processes found                                                 |\n",
            "+-----------------------------------------------------------------------------+\n"
          ]
        }
      ],
      "source": [
        "# 할당된 GPU 확인\n",
        "!nvidia-smi"
      ]
    },
    {
      "cell_type": "code",
      "execution_count": null,
      "metadata": {
        "id": "iRf9JxY4y8ZI"
      },
      "outputs": [],
      "source": []
    },
    {
      "cell_type": "markdown",
      "metadata": {
        "id": "efbe5W3qZGEv"
      },
      "source": [
        "## Data"
      ]
    },
    {
      "cell_type": "code",
      "execution_count": null,
      "metadata": {
        "id": "zfTrP4z4ZbfW"
      },
      "outputs": [],
      "source": [
        "data_path = '/content/drive/MyDrive/Colab Notebooks/rosp/Dacon/쇼핑몰 리뷰 평점 분류 경진대회/data/'\n",
        "\n",
        "train = pd.read_csv(data_path + \"train.csv\")\n",
        "test= pd.read_csv(data_path + \"test.csv\")\n",
        "# ss = pd.read_csv(data_path + \"sample_submission.csv\")"
      ]
    },
    {
      "cell_type": "code",
      "execution_count": null,
      "metadata": {
        "colab": {
          "base_uri": "https://localhost:8080/",
          "height": 224
        },
        "id": "Bh7XhoM2Zaoi",
        "outputId": "9c48cf7c-f66d-4e60-e3b3-bbfd4b1c9c56"
      },
      "outputs": [
        {
          "output_type": "stream",
          "name": "stdout",
          "text": [
            "Train Shape:  (25000, 3) Test Shape:  (25000, 2)\n"
          ]
        },
        {
          "output_type": "execute_result",
          "data": {
            "text/plain": [
              "   id                                            reviews  target\n",
              "0   0                                     조아요 처음구입 싸게햇어요       2\n",
              "1   1  생각보다 잘 안돼요 매지 바른지 하루밖에 안됐는데ㅠㅠ 25천원가량 주고 사기 너무 ...       1\n",
              "2   2  디자인은괜찮은데 상품이 금이가서 교환했는데 두번째받은상품도 까져있고 안쪽에 금이가져...       2\n",
              "3   3  기전에 이 제품말고 이마트 트레이더스에서만 팔던 프리미엄 제품을 사용했었습니다. 샘...       2\n",
              "4   4                                  튼튼하고 손목을 잘 받쳐주네요~       5"
            ],
            "text/html": [
              "\n",
              "  <div id=\"df-c2d95cdb-6eb2-47d0-a77a-861c78e25edf\">\n",
              "    <div class=\"colab-df-container\">\n",
              "      <div>\n",
              "<style scoped>\n",
              "    .dataframe tbody tr th:only-of-type {\n",
              "        vertical-align: middle;\n",
              "    }\n",
              "\n",
              "    .dataframe tbody tr th {\n",
              "        vertical-align: top;\n",
              "    }\n",
              "\n",
              "    .dataframe thead th {\n",
              "        text-align: right;\n",
              "    }\n",
              "</style>\n",
              "<table border=\"1\" class=\"dataframe\">\n",
              "  <thead>\n",
              "    <tr style=\"text-align: right;\">\n",
              "      <th></th>\n",
              "      <th>id</th>\n",
              "      <th>reviews</th>\n",
              "      <th>target</th>\n",
              "    </tr>\n",
              "  </thead>\n",
              "  <tbody>\n",
              "    <tr>\n",
              "      <th>0</th>\n",
              "      <td>0</td>\n",
              "      <td>조아요 처음구입 싸게햇어요</td>\n",
              "      <td>2</td>\n",
              "    </tr>\n",
              "    <tr>\n",
              "      <th>1</th>\n",
              "      <td>1</td>\n",
              "      <td>생각보다 잘 안돼요 매지 바른지 하루밖에 안됐는데ㅠㅠ 25천원가량 주고 사기 너무 ...</td>\n",
              "      <td>1</td>\n",
              "    </tr>\n",
              "    <tr>\n",
              "      <th>2</th>\n",
              "      <td>2</td>\n",
              "      <td>디자인은괜찮은데 상품이 금이가서 교환했는데 두번째받은상품도 까져있고 안쪽에 금이가져...</td>\n",
              "      <td>2</td>\n",
              "    </tr>\n",
              "    <tr>\n",
              "      <th>3</th>\n",
              "      <td>3</td>\n",
              "      <td>기전에 이 제품말고 이마트 트레이더스에서만 팔던 프리미엄 제품을 사용했었습니다. 샘...</td>\n",
              "      <td>2</td>\n",
              "    </tr>\n",
              "    <tr>\n",
              "      <th>4</th>\n",
              "      <td>4</td>\n",
              "      <td>튼튼하고 손목을 잘 받쳐주네요~</td>\n",
              "      <td>5</td>\n",
              "    </tr>\n",
              "  </tbody>\n",
              "</table>\n",
              "</div>\n",
              "      <button class=\"colab-df-convert\" onclick=\"convertToInteractive('df-c2d95cdb-6eb2-47d0-a77a-861c78e25edf')\"\n",
              "              title=\"Convert this dataframe to an interactive table.\"\n",
              "              style=\"display:none;\">\n",
              "        \n",
              "  <svg xmlns=\"http://www.w3.org/2000/svg\" height=\"24px\"viewBox=\"0 0 24 24\"\n",
              "       width=\"24px\">\n",
              "    <path d=\"M0 0h24v24H0V0z\" fill=\"none\"/>\n",
              "    <path d=\"M18.56 5.44l.94 2.06.94-2.06 2.06-.94-2.06-.94-.94-2.06-.94 2.06-2.06.94zm-11 1L8.5 8.5l.94-2.06 2.06-.94-2.06-.94L8.5 2.5l-.94 2.06-2.06.94zm10 10l.94 2.06.94-2.06 2.06-.94-2.06-.94-.94-2.06-.94 2.06-2.06.94z\"/><path d=\"M17.41 7.96l-1.37-1.37c-.4-.4-.92-.59-1.43-.59-.52 0-1.04.2-1.43.59L10.3 9.45l-7.72 7.72c-.78.78-.78 2.05 0 2.83L4 21.41c.39.39.9.59 1.41.59.51 0 1.02-.2 1.41-.59l7.78-7.78 2.81-2.81c.8-.78.8-2.07 0-2.86zM5.41 20L4 18.59l7.72-7.72 1.47 1.35L5.41 20z\"/>\n",
              "  </svg>\n",
              "      </button>\n",
              "      \n",
              "  <style>\n",
              "    .colab-df-container {\n",
              "      display:flex;\n",
              "      flex-wrap:wrap;\n",
              "      gap: 12px;\n",
              "    }\n",
              "\n",
              "    .colab-df-convert {\n",
              "      background-color: #E8F0FE;\n",
              "      border: none;\n",
              "      border-radius: 50%;\n",
              "      cursor: pointer;\n",
              "      display: none;\n",
              "      fill: #1967D2;\n",
              "      height: 32px;\n",
              "      padding: 0 0 0 0;\n",
              "      width: 32px;\n",
              "    }\n",
              "\n",
              "    .colab-df-convert:hover {\n",
              "      background-color: #E2EBFA;\n",
              "      box-shadow: 0px 1px 2px rgba(60, 64, 67, 0.3), 0px 1px 3px 1px rgba(60, 64, 67, 0.15);\n",
              "      fill: #174EA6;\n",
              "    }\n",
              "\n",
              "    [theme=dark] .colab-df-convert {\n",
              "      background-color: #3B4455;\n",
              "      fill: #D2E3FC;\n",
              "    }\n",
              "\n",
              "    [theme=dark] .colab-df-convert:hover {\n",
              "      background-color: #434B5C;\n",
              "      box-shadow: 0px 1px 3px 1px rgba(0, 0, 0, 0.15);\n",
              "      filter: drop-shadow(0px 1px 2px rgba(0, 0, 0, 0.3));\n",
              "      fill: #FFFFFF;\n",
              "    }\n",
              "  </style>\n",
              "\n",
              "      <script>\n",
              "        const buttonEl =\n",
              "          document.querySelector('#df-c2d95cdb-6eb2-47d0-a77a-861c78e25edf button.colab-df-convert');\n",
              "        buttonEl.style.display =\n",
              "          google.colab.kernel.accessAllowed ? 'block' : 'none';\n",
              "\n",
              "        async function convertToInteractive(key) {\n",
              "          const element = document.querySelector('#df-c2d95cdb-6eb2-47d0-a77a-861c78e25edf');\n",
              "          const dataTable =\n",
              "            await google.colab.kernel.invokeFunction('convertToInteractive',\n",
              "                                                     [key], {});\n",
              "          if (!dataTable) return;\n",
              "\n",
              "          const docLinkHtml = 'Like what you see? Visit the ' +\n",
              "            '<a target=\"_blank\" href=https://colab.research.google.com/notebooks/data_table.ipynb>data table notebook</a>'\n",
              "            + ' to learn more about interactive tables.';\n",
              "          element.innerHTML = '';\n",
              "          dataTable['output_type'] = 'display_data';\n",
              "          await google.colab.output.renderOutput(dataTable, element);\n",
              "          const docLink = document.createElement('div');\n",
              "          docLink.innerHTML = docLinkHtml;\n",
              "          element.appendChild(docLink);\n",
              "        }\n",
              "      </script>\n",
              "    </div>\n",
              "  </div>\n",
              "  "
            ]
          },
          "metadata": {},
          "execution_count": 7
        }
      ],
      "source": [
        "print(\"Train Shape: \", train.shape, \"Test Shape: \", test.shape)\n",
        "train.head()"
      ]
    },
    {
      "cell_type": "code",
      "execution_count": null,
      "metadata": {
        "colab": {
          "base_uri": "https://localhost:8080/"
        },
        "id": "URHjlbJhaZEa",
        "outputId": "79929a1c-45f8-49d4-cad6-75e0f8f92a94"
      },
      "outputs": [
        {
          "output_type": "execute_result",
          "data": {
            "text/plain": [
              "array([2, 1, 5, 4])"
            ]
          },
          "metadata": {},
          "execution_count": 8
        }
      ],
      "source": [
        "train.target.unique()"
      ]
    },
    {
      "cell_type": "code",
      "source": [],
      "metadata": {
        "id": "EdjXi3JaJQa6"
      },
      "execution_count": null,
      "outputs": []
    },
    {
      "cell_type": "markdown",
      "metadata": {
        "id": "gPBOUf_-8Bt6"
      },
      "source": [
        "## Target Categorical Encoding "
      ]
    },
    {
      "cell_type": "code",
      "source": [
        "train_encode = {v: k for k, v in enumerate(train.target.unique())}\n",
        "train_encode                               "
      ],
      "metadata": {
        "colab": {
          "base_uri": "https://localhost:8080/"
        },
        "id": "ocxwahjcJTpq",
        "outputId": "8ddede5f-66e7-425d-ba34-1fd5cd4fd5aa"
      },
      "execution_count": null,
      "outputs": [
        {
          "output_type": "execute_result",
          "data": {
            "text/plain": [
              "{2: 0, 1: 1, 5: 2, 4: 3}"
            ]
          },
          "metadata": {},
          "execution_count": 10
        }
      ]
    },
    {
      "cell_type": "code",
      "source": [
        "train_inverse = {v: k for k, v in train_encode.items()}\n",
        "train_inverse"
      ],
      "metadata": {
        "colab": {
          "base_uri": "https://localhost:8080/"
        },
        "id": "qTtrf8P2EntV",
        "outputId": "ff7b291e-54a7-403c-b641-3b4ee653d925"
      },
      "execution_count": null,
      "outputs": [
        {
          "output_type": "execute_result",
          "data": {
            "text/plain": [
              "{0: 2, 1: 1, 2: 5, 3: 4}"
            ]
          },
          "metadata": {},
          "execution_count": 11
        }
      ]
    },
    {
      "cell_type": "code",
      "source": [
        "train['new_target'] = train.target.apply(lambda x: train_encode[x])\n",
        "train.head()"
      ],
      "metadata": {
        "colab": {
          "base_uri": "https://localhost:8080/",
          "height": 206
        },
        "id": "z-gkcr2GJnGW",
        "outputId": "a4a720fa-3c36-4204-8ccd-873208c8950e"
      },
      "execution_count": null,
      "outputs": [
        {
          "output_type": "execute_result",
          "data": {
            "text/plain": [
              "   id                                            reviews  target  new_target\n",
              "0   0                                     조아요 처음구입 싸게햇어요       2           0\n",
              "1   1  생각보다 잘 안돼요 매지 바른지 하루밖에 안됐는데ㅠㅠ 25천원가량 주고 사기 너무 ...       1           1\n",
              "2   2  디자인은괜찮은데 상품이 금이가서 교환했는데 두번째받은상품도 까져있고 안쪽에 금이가져...       2           0\n",
              "3   3  기전에 이 제품말고 이마트 트레이더스에서만 팔던 프리미엄 제품을 사용했었습니다. 샘...       2           0\n",
              "4   4                                  튼튼하고 손목을 잘 받쳐주네요~       5           2"
            ],
            "text/html": [
              "\n",
              "  <div id=\"df-b2b1a1b9-572c-4383-b64c-cbdee6021ed5\">\n",
              "    <div class=\"colab-df-container\">\n",
              "      <div>\n",
              "<style scoped>\n",
              "    .dataframe tbody tr th:only-of-type {\n",
              "        vertical-align: middle;\n",
              "    }\n",
              "\n",
              "    .dataframe tbody tr th {\n",
              "        vertical-align: top;\n",
              "    }\n",
              "\n",
              "    .dataframe thead th {\n",
              "        text-align: right;\n",
              "    }\n",
              "</style>\n",
              "<table border=\"1\" class=\"dataframe\">\n",
              "  <thead>\n",
              "    <tr style=\"text-align: right;\">\n",
              "      <th></th>\n",
              "      <th>id</th>\n",
              "      <th>reviews</th>\n",
              "      <th>target</th>\n",
              "      <th>new_target</th>\n",
              "    </tr>\n",
              "  </thead>\n",
              "  <tbody>\n",
              "    <tr>\n",
              "      <th>0</th>\n",
              "      <td>0</td>\n",
              "      <td>조아요 처음구입 싸게햇어요</td>\n",
              "      <td>2</td>\n",
              "      <td>0</td>\n",
              "    </tr>\n",
              "    <tr>\n",
              "      <th>1</th>\n",
              "      <td>1</td>\n",
              "      <td>생각보다 잘 안돼요 매지 바른지 하루밖에 안됐는데ㅠㅠ 25천원가량 주고 사기 너무 ...</td>\n",
              "      <td>1</td>\n",
              "      <td>1</td>\n",
              "    </tr>\n",
              "    <tr>\n",
              "      <th>2</th>\n",
              "      <td>2</td>\n",
              "      <td>디자인은괜찮은데 상품이 금이가서 교환했는데 두번째받은상품도 까져있고 안쪽에 금이가져...</td>\n",
              "      <td>2</td>\n",
              "      <td>0</td>\n",
              "    </tr>\n",
              "    <tr>\n",
              "      <th>3</th>\n",
              "      <td>3</td>\n",
              "      <td>기전에 이 제품말고 이마트 트레이더스에서만 팔던 프리미엄 제품을 사용했었습니다. 샘...</td>\n",
              "      <td>2</td>\n",
              "      <td>0</td>\n",
              "    </tr>\n",
              "    <tr>\n",
              "      <th>4</th>\n",
              "      <td>4</td>\n",
              "      <td>튼튼하고 손목을 잘 받쳐주네요~</td>\n",
              "      <td>5</td>\n",
              "      <td>2</td>\n",
              "    </tr>\n",
              "  </tbody>\n",
              "</table>\n",
              "</div>\n",
              "      <button class=\"colab-df-convert\" onclick=\"convertToInteractive('df-b2b1a1b9-572c-4383-b64c-cbdee6021ed5')\"\n",
              "              title=\"Convert this dataframe to an interactive table.\"\n",
              "              style=\"display:none;\">\n",
              "        \n",
              "  <svg xmlns=\"http://www.w3.org/2000/svg\" height=\"24px\"viewBox=\"0 0 24 24\"\n",
              "       width=\"24px\">\n",
              "    <path d=\"M0 0h24v24H0V0z\" fill=\"none\"/>\n",
              "    <path d=\"M18.56 5.44l.94 2.06.94-2.06 2.06-.94-2.06-.94-.94-2.06-.94 2.06-2.06.94zm-11 1L8.5 8.5l.94-2.06 2.06-.94-2.06-.94L8.5 2.5l-.94 2.06-2.06.94zm10 10l.94 2.06.94-2.06 2.06-.94-2.06-.94-.94-2.06-.94 2.06-2.06.94z\"/><path d=\"M17.41 7.96l-1.37-1.37c-.4-.4-.92-.59-1.43-.59-.52 0-1.04.2-1.43.59L10.3 9.45l-7.72 7.72c-.78.78-.78 2.05 0 2.83L4 21.41c.39.39.9.59 1.41.59.51 0 1.02-.2 1.41-.59l7.78-7.78 2.81-2.81c.8-.78.8-2.07 0-2.86zM5.41 20L4 18.59l7.72-7.72 1.47 1.35L5.41 20z\"/>\n",
              "  </svg>\n",
              "      </button>\n",
              "      \n",
              "  <style>\n",
              "    .colab-df-container {\n",
              "      display:flex;\n",
              "      flex-wrap:wrap;\n",
              "      gap: 12px;\n",
              "    }\n",
              "\n",
              "    .colab-df-convert {\n",
              "      background-color: #E8F0FE;\n",
              "      border: none;\n",
              "      border-radius: 50%;\n",
              "      cursor: pointer;\n",
              "      display: none;\n",
              "      fill: #1967D2;\n",
              "      height: 32px;\n",
              "      padding: 0 0 0 0;\n",
              "      width: 32px;\n",
              "    }\n",
              "\n",
              "    .colab-df-convert:hover {\n",
              "      background-color: #E2EBFA;\n",
              "      box-shadow: 0px 1px 2px rgba(60, 64, 67, 0.3), 0px 1px 3px 1px rgba(60, 64, 67, 0.15);\n",
              "      fill: #174EA6;\n",
              "    }\n",
              "\n",
              "    [theme=dark] .colab-df-convert {\n",
              "      background-color: #3B4455;\n",
              "      fill: #D2E3FC;\n",
              "    }\n",
              "\n",
              "    [theme=dark] .colab-df-convert:hover {\n",
              "      background-color: #434B5C;\n",
              "      box-shadow: 0px 1px 3px 1px rgba(0, 0, 0, 0.15);\n",
              "      filter: drop-shadow(0px 1px 2px rgba(0, 0, 0, 0.3));\n",
              "      fill: #FFFFFF;\n",
              "    }\n",
              "  </style>\n",
              "\n",
              "      <script>\n",
              "        const buttonEl =\n",
              "          document.querySelector('#df-b2b1a1b9-572c-4383-b64c-cbdee6021ed5 button.colab-df-convert');\n",
              "        buttonEl.style.display =\n",
              "          google.colab.kernel.accessAllowed ? 'block' : 'none';\n",
              "\n",
              "        async function convertToInteractive(key) {\n",
              "          const element = document.querySelector('#df-b2b1a1b9-572c-4383-b64c-cbdee6021ed5');\n",
              "          const dataTable =\n",
              "            await google.colab.kernel.invokeFunction('convertToInteractive',\n",
              "                                                     [key], {});\n",
              "          if (!dataTable) return;\n",
              "\n",
              "          const docLinkHtml = 'Like what you see? Visit the ' +\n",
              "            '<a target=\"_blank\" href=https://colab.research.google.com/notebooks/data_table.ipynb>data table notebook</a>'\n",
              "            + ' to learn more about interactive tables.';\n",
              "          element.innerHTML = '';\n",
              "          dataTable['output_type'] = 'display_data';\n",
              "          await google.colab.output.renderOutput(dataTable, element);\n",
              "          const docLink = document.createElement('div');\n",
              "          docLink.innerHTML = docLinkHtml;\n",
              "          element.appendChild(docLink);\n",
              "        }\n",
              "      </script>\n",
              "    </div>\n",
              "  </div>\n",
              "  "
            ]
          },
          "metadata": {},
          "execution_count": 14
        }
      ]
    },
    {
      "cell_type": "markdown",
      "source": [
        "## GETBOW and Preprocessing"
      ],
      "metadata": {
        "id": "7J_4YotQyf7w"
      }
    },
    {
      "cell_type": "code",
      "source": [
        "## Mecab을 사용해봅시다. \n",
        "from konlpy.tag import Mecab\n",
        "\n",
        "mecab = Mecab() "
      ],
      "metadata": {
        "id": "FAXPRkD26dKi"
      },
      "execution_count": null,
      "outputs": []
    },
    {
      "cell_type": "markdown",
      "source": [
        "## Tokenizer and preprocessing"
      ],
      "metadata": {
        "id": "vGcgwjLQ8Q7E"
      }
    },
    {
      "cell_type": "code",
      "execution_count": null,
      "metadata": {
        "id": "rM3wiLmX0rr4"
      },
      "outputs": [],
      "source": [
        "# import re\n",
        "\n",
        "predefined_pos = [\"NNG\", \"NNP\", \"NNB\", \"NNBC\", \"NR\", \"NP\",\n",
        "                  \"VV\",\n",
        "                  \"VA\", \"VX\", \"VCP\", \"VCN\",\n",
        "                  \"MM\", \"MAG\", \"MAJ\"]\n",
        "\n",
        "def text_pre(text, tokenizer = 'morphs'):\n",
        "    # 1. Cleaning\n",
        "    # 밑에 있는 cleaning 코드는 3개를 다 써도 되고, 일부만 사용해도 됩니다.\n",
        "    #text = re.sub(\"[^ㄱ-ㅎㅏ-ㅣ가-힣 ]\", \"\", text) # 한국어 빼고 다 지우기\n",
        "    text = re.sub(\"[\\{\\}\\[\\]\\/?.,;:|\\)*~`!^\\-_+<>@\\#$%&\\\\\\=\\(\\'\\\"]\", \"\", text) # 특수문자 다 지우기\n",
        "    #text = re.sub([\"A-Za-z\"], \"\", text) # 영어 다 지우기\n",
        "\n",
        "    if tokenizer =='word':\n",
        "        tokens = text.split()\n",
        "\n",
        "    elif tokenizer =='nouns':\n",
        "        tokens = mecab.nouns(text)\n",
        "\n",
        "    elif tokenizer =='morphs':\n",
        "        tokens = mecab.morphs(text)\n",
        "\n",
        "    elif tokenizer =='predefined':\n",
        "\n",
        "        tokens = []\n",
        "        temp = mecab.pos(text)\n",
        "        for token, pos in temp:\n",
        "            if pos in predefined_pos:\n",
        "                tokens.append(token)\n",
        "\n",
        "    ## 3. Stop words\n",
        "    SW = set()\n",
        "    SW.add(\"불용어\")\n",
        "\n",
        "    result = [token for token in tokens if token not in SW]\n",
        "    return result \n"
      ]
    },
    {
      "cell_type": "code",
      "source": [
        "sample = train.reviews.values[1]\n",
        "sample"
      ],
      "metadata": {
        "colab": {
          "base_uri": "https://localhost:8080/",
          "height": 36
        },
        "id": "BQ8iDOSwEqBC",
        "outputId": "98c5c324-40f6-47df-b5d4-75afc6ea03bc"
      },
      "execution_count": null,
      "outputs": [
        {
          "output_type": "execute_result",
          "data": {
            "text/plain": [
              "'생각보다 잘 안돼요 매지 바른지 하루밖에 안됐는데ㅠㅠ 25천원가량 주고 사기 너무 아깝네요'"
            ],
            "application/vnd.google.colaboratory.intrinsic+json": {
              "type": "string"
            }
          },
          "metadata": {},
          "execution_count": 18
        }
      ]
    },
    {
      "cell_type": "code",
      "source": [
        "mecab.morphs(sample)"
      ],
      "metadata": {
        "colab": {
          "base_uri": "https://localhost:8080/"
        },
        "id": "g44NOtYAEp-q",
        "outputId": "92d00356-fb09-47b0-ab0f-251582c31103"
      },
      "execution_count": null,
      "outputs": [
        {
          "output_type": "execute_result",
          "data": {
            "text/plain": [
              "['생각',\n",
              " '보다',\n",
              " '잘',\n",
              " '안',\n",
              " '돼요',\n",
              " '매지',\n",
              " '바른',\n",
              " '지',\n",
              " '하루',\n",
              " '밖에',\n",
              " '안',\n",
              " '됐',\n",
              " '는데',\n",
              " 'ㅠㅠ',\n",
              " '25',\n",
              " '천',\n",
              " '원',\n",
              " '가량',\n",
              " '주',\n",
              " '고',\n",
              " '사기',\n",
              " '너무',\n",
              " '아깝',\n",
              " '네요']"
            ]
          },
          "metadata": {},
          "execution_count": 19
        }
      ]
    },
    {
      "cell_type": "code",
      "source": [
        "mecab.nouns(sample)"
      ],
      "metadata": {
        "colab": {
          "base_uri": "https://localhost:8080/"
        },
        "id": "i3xjLHUbEp78",
        "outputId": "484109cb-23a7-4a25-d516-77455bf94b5e"
      },
      "execution_count": null,
      "outputs": [
        {
          "output_type": "execute_result",
          "data": {
            "text/plain": [
              "['생각', '매지', '지', '하루', '천', '원', '가량', '사기']"
            ]
          },
          "metadata": {},
          "execution_count": 20
        }
      ]
    },
    {
      "cell_type": "markdown",
      "source": [
        "### getbow"
      ],
      "metadata": {
        "id": "HjT5C2iu8Okk"
      }
    },
    {
      "cell_type": "code",
      "source": [
        "def getbow(corpus):\n",
        "    # corpus: [sentence1, sentence2,  ... ]\n",
        "\n",
        "    bow = {'<BOS>': 1, '<EOS>': 2, '<PAD>':0}\n",
        "\n",
        "    for sentence in corpus:\n",
        "        for token in mecab.morphs(sentence):\n",
        "            if token not in bow.keys():\n",
        "                bow[token] = len(bow.keys())\n",
        "    \n",
        "    return bow"
      ],
      "metadata": {
        "id": "2iTRoRfMEr80"
      },
      "execution_count": null,
      "outputs": []
    },
    {
      "cell_type": "code",
      "source": [
        "train.reviews.to_list()[:2]"
      ],
      "metadata": {
        "colab": {
          "base_uri": "https://localhost:8080/"
        },
        "id": "_39XyhJ2LXVI",
        "outputId": "70d499c0-df3e-4dea-80fb-44e8a942f2a0"
      },
      "execution_count": null,
      "outputs": [
        {
          "output_type": "execute_result",
          "data": {
            "text/plain": [
              "['조아요 처음구입 싸게햇어요', '생각보다 잘 안돼요 매지 바른지 하루밖에 안됐는데ㅠㅠ 25천원가량 주고 사기 너무 아깝네요']"
            ]
          },
          "metadata": {},
          "execution_count": 31
        }
      ]
    },
    {
      "cell_type": "code",
      "source": [
        "korbow = getbow(train.reviews.to_list())\n",
        "len(korbow)"
      ],
      "metadata": {
        "colab": {
          "base_uri": "https://localhost:8080/"
        },
        "id": "hEGKQgMJEr6F",
        "outputId": "4675b6bb-95eb-4450-8588-1b8f446fbbb9"
      },
      "execution_count": null,
      "outputs": [
        {
          "output_type": "execute_result",
          "data": {
            "text/plain": [
              "18343"
            ]
          },
          "metadata": {},
          "execution_count": 32
        }
      ]
    },
    {
      "cell_type": "code",
      "source": [
        "# korbow"
      ],
      "metadata": {
        "id": "2K9MLYv0L1vq"
      },
      "execution_count": null,
      "outputs": []
    },
    {
      "cell_type": "markdown",
      "source": [
        "### Let's find out max length"
      ],
      "metadata": {
        "id": "-INbOAWO8Tso"
      }
    },
    {
      "cell_type": "code",
      "source": [
        "max_length = 0\n",
        "for idx in train.index:\n",
        "    length = len(mecab.morphs(train.loc[idx, 'reviews']))\n",
        "    if length > max_length:\n",
        "        max_length = length\n",
        "\n",
        "max_length"
      ],
      "metadata": {
        "colab": {
          "base_uri": "https://localhost:8080/"
        },
        "id": "hfaSrqCDEtmC",
        "outputId": "1d896e1a-03e0-42c3-b1bc-a6a3e4e7e56d"
      },
      "execution_count": null,
      "outputs": [
        {
          "output_type": "execute_result",
          "data": {
            "text/plain": [
              "86"
            ]
          },
          "metadata": {},
          "execution_count": 36
        }
      ]
    },
    {
      "cell_type": "code",
      "source": [
        "# max_sl: 128 "
      ],
      "metadata": {
        "id": "Jb6gfakxEtja"
      },
      "execution_count": null,
      "outputs": []
    },
    {
      "cell_type": "code",
      "source": [],
      "metadata": {
        "id": "lPOWbuLcEtgu"
      },
      "execution_count": null,
      "outputs": []
    },
    {
      "cell_type": "markdown",
      "source": [
        "## Prepare Loaders"
      ],
      "metadata": {
        "id": "blGkMwFg0W5V"
      }
    },
    {
      "cell_type": "code",
      "source": [
        "class MyDataset(Dataset):\n",
        "    def __init__(self, data = train, tokenizer = mecab.morphs, sl = 128):\n",
        "        self.df = data\n",
        "        self.sl = sl\n",
        "        self.tokenizer = tokenizer\n",
        "\n",
        "    def __len__(self):\n",
        "        return self.df.shape[0]\n",
        "\n",
        "    def __getitem__(self, index):\n",
        "        ## index로 row 특정\n",
        "        x = self.df.reviews[index] # 한 문장 -> \"난 학교 간다.\"\n",
        "        sentence = ['<BOS>'] + self.tokenizer(x)+ ['<EOS>']# [\"난\", \"학교\", 간-\", \"다\"]\n",
        "        sentence += ['<PAD>'] * (self.sl - len(sentence))\n",
        "        x = np.array([korbow[token] for token in sentence])  \n",
        "        x = torch.tensor(x, dtype = torch.long)\n",
        "\n",
        "        y = self.df.new_target[index]\n",
        "        y = torch.tensor(y, dtype = torch.long)\n",
        "\n",
        "        return x, y"
      ],
      "metadata": {
        "id": "J4jhf5MjEyvO"
      },
      "execution_count": null,
      "outputs": []
    },
    {
      "cell_type": "code",
      "source": [
        "index = 11\n",
        "data = MyDataset()[index]\n",
        "data[0]"
      ],
      "metadata": {
        "colab": {
          "base_uri": "https://localhost:8080/"
        },
        "id": "X_SXiOZPOSLn",
        "outputId": "5be9454e-80e6-4d7e-917e-8efee9debc4c"
      },
      "execution_count": null,
      "outputs": [
        {
          "output_type": "execute_result",
          "data": {
            "text/plain": [
              "tensor([  1, 187,  65,  29, 188, 189,   2,   0,   0,   0,   0,   0,   0,   0,\n",
              "          0,   0,   0,   0,   0,   0,   0,   0,   0,   0,   0,   0,   0,   0,\n",
              "          0,   0,   0,   0,   0,   0,   0,   0,   0,   0,   0,   0,   0,   0,\n",
              "          0,   0,   0,   0,   0,   0,   0,   0,   0,   0,   0,   0,   0,   0,\n",
              "          0,   0,   0,   0,   0,   0,   0,   0,   0,   0,   0,   0,   0,   0,\n",
              "          0,   0,   0,   0,   0,   0,   0,   0,   0,   0,   0,   0,   0,   0,\n",
              "          0,   0,   0,   0,   0,   0,   0,   0,   0,   0,   0,   0,   0,   0,\n",
              "          0,   0,   0,   0,   0,   0,   0,   0,   0,   0,   0,   0,   0,   0,\n",
              "          0,   0,   0,   0,   0,   0,   0,   0,   0,   0,   0,   0,   0,   0,\n",
              "          0,   0])"
            ]
          },
          "metadata": {},
          "execution_count": 49
        }
      ]
    },
    {
      "cell_type": "code",
      "source": [
        "data[1]"
      ],
      "metadata": {
        "colab": {
          "base_uri": "https://localhost:8080/"
        },
        "id": "M5Y8gguVOfdK",
        "outputId": "d5aa03c6-49f9-4d1f-9793-4da7452e7f8a"
      },
      "execution_count": null,
      "outputs": [
        {
          "output_type": "execute_result",
          "data": {
            "text/plain": [
              "tensor(0)"
            ]
          },
          "metadata": {},
          "execution_count": 50
        }
      ]
    },
    {
      "cell_type": "code",
      "source": [
        "def prepare_loaders(df = train, index_num = int(train.shape[0] * .7), bs = 64):\n",
        "    # train, valid split\n",
        "    train_df = df[:index_num].reset_index(drop = True)\n",
        "    valid_df = df[index_num:].reset_index(drop = True)\n",
        "    # train_ds, valid_ds\n",
        "    train_ds = MyDataset(data = train_df)\n",
        "    valid_ds = MyDataset(data = valid_df)\n",
        "    # DataLoader\n",
        "    train_loader = DataLoader(train_ds, batch_size = bs, shuffle = True)\n",
        "    valid_loader = DataLoader(valid_ds, batch_size = bs, shuffle = False)\n",
        "    print(\"DataLoader Completed\")\n",
        "    return train_loader, valid_loader"
      ],
      "metadata": {
        "id": "8ydngk2GOhY2"
      },
      "execution_count": null,
      "outputs": []
    },
    {
      "cell_type": "code",
      "source": [
        "train_loader, valid_loader = prepare_loaders()"
      ],
      "metadata": {
        "colab": {
          "base_uri": "https://localhost:8080/"
        },
        "id": "bZiLfZ9LOhVH",
        "outputId": "a1a22534-5714-4f0d-d516-ada72eb111ed"
      },
      "execution_count": null,
      "outputs": [
        {
          "output_type": "stream",
          "name": "stdout",
          "text": [
            "DataLoader Completed\n"
          ]
        }
      ]
    },
    {
      "cell_type": "code",
      "source": [
        "data = next(iter(train_loader))\n",
        "data[0].shape, data[1].shape"
      ],
      "metadata": {
        "colab": {
          "base_uri": "https://localhost:8080/"
        },
        "id": "std2LpIvPMit",
        "outputId": "565340f8-1bd2-47fa-b80f-392f6111fbab"
      },
      "execution_count": null,
      "outputs": [
        {
          "output_type": "execute_result",
          "data": {
            "text/plain": [
              "(torch.Size([64, 128]), torch.Size([64]))"
            ]
          },
          "metadata": {},
          "execution_count": 53
        }
      ]
    },
    {
      "cell_type": "markdown",
      "source": [
        "# Model"
      ],
      "metadata": {
        "id": "O5yiHAqbB94T"
      }
    },
    {
      "cell_type": "code",
      "source": [
        "device = torch.device('cuda:0') if torch.cuda.is_available() else torch.device('cpu')\n",
        "device"
      ],
      "metadata": {
        "colab": {
          "base_uri": "https://localhost:8080/"
        },
        "id": "Km4AP20gDVbc",
        "outputId": "ddf807b6-d273-41bb-b914-8bef7565708c"
      },
      "execution_count": null,
      "outputs": [
        {
          "output_type": "execute_result",
          "data": {
            "text/plain": [
              "device(type='cuda', index=0)"
            ]
          },
          "metadata": {},
          "execution_count": 54
        }
      ]
    },
    {
      "cell_type": "code",
      "source": [
        "## nn.Embedding()\n",
        "sample"
      ],
      "metadata": {
        "id": "y6tPggPcXkPY",
        "colab": {
          "base_uri": "https://localhost:8080/",
          "height": 36
        },
        "outputId": "79c614ac-7a2a-43d2-ff5a-0451865813d5"
      },
      "execution_count": null,
      "outputs": [
        {
          "output_type": "execute_result",
          "data": {
            "text/plain": [
              "'생각보다 잘 안돼요 매지 바른지 하루밖에 안됐는데ㅠㅠ 25천원가량 주고 사기 너무 아깝네요'"
            ],
            "application/vnd.google.colaboratory.intrinsic+json": {
              "type": "string"
            }
          },
          "metadata": {},
          "execution_count": 55
        }
      ]
    },
    {
      "cell_type": "code",
      "source": [
        "sample_tensor = torch.tensor([korbow[token] for token in ['<BOS>'] + mecab.morphs(sample) + ['<EOS>'] + ['<PAD>']], dtype = torch.long).unsqueeze(0)\n",
        "sample_tensor.shape # [1, sl]"
      ],
      "metadata": {
        "id": "kHpTWTjDXkMe",
        "colab": {
          "base_uri": "https://localhost:8080/"
        },
        "outputId": "c8a39ccc-2c62-4b81-a378-701d861a34a3"
      },
      "execution_count": null,
      "outputs": [
        {
          "output_type": "execute_result",
          "data": {
            "text/plain": [
              "torch.Size([1, 27])"
            ]
          },
          "metadata": {},
          "execution_count": 56
        }
      ]
    },
    {
      "cell_type": "code",
      "source": [
        "input_dim = len(korbow.keys())\n",
        "hid_dim = 256\n",
        "embed = nn.Embedding(input_dim, hid_dim)"
      ],
      "metadata": {
        "id": "Qu0W0iGGXkJZ"
      },
      "execution_count": null,
      "outputs": []
    },
    {
      "cell_type": "code",
      "source": [
        "out = embed(sample_tensor)\n",
        "out.shape"
      ],
      "metadata": {
        "id": "XgJOLE1-XkGc",
        "colab": {
          "base_uri": "https://localhost:8080/"
        },
        "outputId": "0b402ce5-2b0a-442a-84cf-ac8aaf76d80c"
      },
      "execution_count": null,
      "outputs": [
        {
          "output_type": "execute_result",
          "data": {
            "text/plain": [
              "torch.Size([1, 27, 256])"
            ]
          },
          "metadata": {},
          "execution_count": 58
        }
      ]
    },
    {
      "cell_type": "code",
      "source": [
        "out[0, 0].shape"
      ],
      "metadata": {
        "id": "An-Kc_tfXkDl",
        "colab": {
          "base_uri": "https://localhost:8080/"
        },
        "outputId": "570ea0e0-a0bd-4377-924e-f41d4c903b40"
      },
      "execution_count": null,
      "outputs": [
        {
          "output_type": "execute_result",
          "data": {
            "text/plain": [
              "torch.Size([256])"
            ]
          },
          "metadata": {},
          "execution_count": 61
        }
      ]
    },
    {
      "cell_type": "code",
      "source": [
        "class Model(nn.Module):\n",
        "    def __init__(self, input_dim = len(korbow.keys()), emb_dim = 256, \n",
        "                 sl = 128,  num_layers = 1, hidden_size = 512):\n",
        "        super().__init__()\n",
        "        self.hidden_size = hidden_size\n",
        "        self.num_layers = num_layers\n",
        "\n",
        "        # x: [bs, sl]\n",
        "        self.embed = nn.Embedding(input_dim, emb_dim) # [bs, sl] -> [bs, sl, emb_dim]\n",
        "\n",
        "        # [bs, sl, emb_dim] -> [bs, sl, hidden_size]\n",
        "        self.rnn = nn.RNN(input_size = emb_dim, \n",
        "                          hidden_size = hidden_size,\n",
        "                          num_layers = num_layers,\n",
        "                          batch_first = True,\n",
        "                          bidirectional = False)\n",
        "        # batch_first = True 일 때,\n",
        "        # input_data's shape: [bs, sl, emb_dim(=input_size)]\n",
        "        # input_h0's shape: [nl, bs, hidden_size] # nl: num_layers\n",
        "\n",
        "        # output_data's shape: [bs, sl, hidden_size]\n",
        "        # h_n's shape: [nl, bs, hidden_size] \n",
        "        # k = \n",
        "        self.seq = nn.Sequential( nn.Linear(k, 128), nn.ReLU(), nn.Linear(128, 4), nn.LogSoftmax(dim=-1) )\n",
        "\n",
        "    def forward(self, x):\n",
        "        # x: [bs, sl]\n",
        "        x = self.embed(x) # [bs, sl] -> [bs, sl, emb_dim]\n",
        "\n",
        "        bs = x.shape[0]\n",
        "\n",
        "        h0 = torch.zeros(self.num_layers, bs, self.hidden_size) # [nl, bs, hidden_size] \n",
        "        output, h_n = self.rnn(x, h0)\n",
        "        # output_data's shape: [bs, sl, hidden_size]\n",
        "        # h_n's shape: [nl, bs, hidden_size] \n",
        "\n",
        "\n",
        "\n",
        "        "
      ],
      "metadata": {
        "id": "QZwOsFfoXYc2"
      },
      "execution_count": null,
      "outputs": []
    },
    {
      "cell_type": "code",
      "source": [],
      "metadata": {
        "id": "ZncFDZG_XYaV"
      },
      "execution_count": null,
      "outputs": []
    },
    {
      "cell_type": "code",
      "source": [
        "# !pip install transformers\n",
        "\n",
        "from transformers import AutoTokenizer\n",
        "\n",
        "tok = AutoTokenizer.from_pretrained(\"beomi/KcELECTRA-base-v2022\")"
      ],
      "metadata": {
        "id": "jU49PhcTXYXc"
      },
      "execution_count": null,
      "outputs": []
    },
    {
      "cell_type": "code",
      "source": [
        "text = \"난이게정말뭐하는짓거린지...\""
      ],
      "metadata": {
        "id": "fM1lW1GEW6Zw"
      },
      "execution_count": null,
      "outputs": []
    },
    {
      "cell_type": "code",
      "source": [
        "text2 = \" \".join(mecab.morphs(text))\n",
        "text2"
      ],
      "metadata": {
        "colab": {
          "base_uri": "https://localhost:8080/",
          "height": 36
        },
        "id": "3vcEfuxKW6XY",
        "outputId": "fd139146-c945-428f-c074-d991cf659b1a"
      },
      "execution_count": null,
      "outputs": [
        {
          "output_type": "execute_result",
          "data": {
            "text/plain": [
              "'난 이게 정말 뭐 하 는 짓 거린 지 . ..'"
            ],
            "application/vnd.google.colaboratory.intrinsic+json": {
              "type": "string"
            }
          },
          "metadata": {},
          "execution_count": 78
        }
      ]
    },
    {
      "cell_type": "code",
      "source": [
        "tok.tokenize(text)"
      ],
      "metadata": {
        "colab": {
          "base_uri": "https://localhost:8080/"
        },
        "id": "rAFK9iY4Xw6D",
        "outputId": "be6e91bd-af54-4e60-9691-39d904c5e2b6"
      },
      "execution_count": null,
      "outputs": [
        {
          "output_type": "execute_result",
          "data": {
            "text/plain": [
              "['난', '##이게', '##정말', '##뭐', '##하는짓', '##거', '##린지', '.', '.', '.']"
            ]
          },
          "metadata": {},
          "execution_count": 79
        }
      ]
    },
    {
      "cell_type": "code",
      "source": [
        "tok.tokenize(text2)"
      ],
      "metadata": {
        "colab": {
          "base_uri": "https://localhost:8080/"
        },
        "id": "4qBTh1MUXw3E",
        "outputId": "ff285446-87c6-45a5-9824-44353adc3324"
      },
      "execution_count": null,
      "outputs": [
        {
          "output_type": "execute_result",
          "data": {
            "text/plain": [
              "['난', '이게', '정말', '뭐', '하', '는', '짓', '거', '##린', '지', '.', '.', '.']"
            ]
          },
          "metadata": {},
          "execution_count": 80
        }
      ]
    },
    {
      "cell_type": "code",
      "source": [],
      "metadata": {
        "id": "MM9Lx-RwbRE2"
      },
      "execution_count": null,
      "outputs": []
    },
    {
      "cell_type": "markdown",
      "source": [
        "## Loss Function and Optimizer"
      ],
      "metadata": {
        "id": "Ptv1MYxvFxeZ"
      }
    },
    {
      "cell_type": "code",
      "source": [
        "loss_fn = nn.NLLLoss().to(device)\n",
        "optimizer = torch.optim.Adam(model.parameters())"
      ],
      "metadata": {
        "id": "v7-FLO0MBwIW"
      },
      "execution_count": null,
      "outputs": []
    },
    {
      "cell_type": "code",
      "source": [],
      "metadata": {
        "id": "8lfQP5DrBwE-"
      },
      "execution_count": null,
      "outputs": []
    },
    {
      "cell_type": "markdown",
      "source": [
        "## Train_one_epoch"
      ],
      "metadata": {
        "id": "dqLM3JwGK4KV"
      }
    },
    {
      "cell_type": "code",
      "source": [
        "# train_loss => 실시간 단위로 구할 예정\n",
        "# accuracy => 실시간 단위로 구할 예정\n",
        "\n",
        "from tqdm import tqdm\n",
        "epoch = 1\n",
        "\n",
        "def train_one_epoch(model = model, dataloader = train_loader, loss_fn = loss_fn, \n",
        "                    optimizer = optimizer, device = device, epoch = epoch):\n",
        "    model.train()\n",
        "    train_loss, dataset_size = 0,  0\n",
        "\n",
        "    preds, trues = [], []\n",
        "\n",
        "    bar = tqdm(dataloader, total = len(dataloader))\n",
        "    for data in bar:\n",
        "        x = data[0].to(device)    \n",
        "        y_true = data[1].to(device) \n",
        "        y_pred = model(x)           \n",
        "        y_pred = nn.LogSoftmax(dim = -1)(y_pred)\n",
        "        loss = loss_fn(y_pred, y_true)\n",
        "\n",
        "        optimizer.zero_grad()\n",
        "        loss.backward()\n",
        "        optimizer.step()\n",
        "\n",
        "        bs = x.shape[0]\n",
        "        dataset_size += bs \n",
        "        train_loss += (loss.item() * bs)\n",
        "        train_epoch_loss = train_loss / dataset_size \n",
        "\n",
        "        preds.append(y_pred)\n",
        "        trues.append(y_true) \n",
        "\n",
        "        preds_cat = torch.cat(preds, dim = 0) \n",
        "        trues_cat = torch.cat(trues, dim = 0) \n",
        "\n",
        "        train_acc = 100*(torch.argmax(preds_cat, dim =-1) == trues_cat).sum().item() / dataset_size\n",
        "        bar.set_description(f\"Epoch{epoch:02d}|TL:{train_epoch_loss:.3e}|ACCURACY:{train_acc:.2f}\")\n",
        "\n",
        "    return train_epoch_loss, train_acc\n"
      ],
      "metadata": {
        "id": "461aBcaoRCyG"
      },
      "execution_count": null,
      "outputs": []
    },
    {
      "cell_type": "markdown",
      "source": [
        "## Valid one epoch"
      ],
      "metadata": {
        "id": "sK6Ui3l8K70p"
      }
    },
    {
      "cell_type": "code",
      "source": [
        "# train_loss => 실시간 단위로 구할 예정\n",
        "# accuracy => 실시간 단위로 구할 예정\n",
        "\n",
        "from tqdm import tqdm\n",
        "epoch = 1\n",
        "\n",
        "@torch.no_grad()\n",
        "def valid_one_epoch(model = model, dataloader = valid_loader, loss_fn = loss_fn, \n",
        "                    device = device, epoch = epoch):\n",
        "    model.eval()\n",
        "    valid_loss, dataset_size = 0,  0\n",
        "\n",
        "    preds, trues = [], []\n",
        "\n",
        "    bar = tqdm(dataloader, total = len(dataloader))\n",
        "    with torch.no_grad():\n",
        "        for data in bar:\n",
        "            x = data[0].to(device)      \n",
        "            y_true = data[1].to(device) \n",
        "            y_pred = model(x)           \n",
        "            y_pred = nn.LogSoftmax(dim = -1)(y_pred)\n",
        "            loss = loss_fn(y_pred, y_true)\n",
        "\n",
        "            bs = x.shape[0]\n",
        "            dataset_size += bs \n",
        "            valid_loss += (loss.item() * bs)\n",
        "            valid_epoch_loss = valid_loss / dataset_size \n",
        "\n",
        "            preds.append(y_pred) \n",
        "            trues.append(y_true) \n",
        "\n",
        "            preds_cat = torch.cat(preds, dim = 0)\n",
        "            trues_cat = torch.cat(trues, dim = 0) \n",
        "\n",
        "            valid_acc = 100*(torch.argmax(preds_cat, dim =-1) == trues_cat).sum().item() / dataset_size\n",
        "            bar.set_description(f\"Epoch{epoch:02d}|VL:{valid_epoch_loss:.3e}|ACCURACY:{valid_acc:.2f}\")\n",
        "\n",
        "    return valid_epoch_loss, valid_acc\n"
      ],
      "metadata": {
        "id": "YM6GfVR4yQDF"
      },
      "execution_count": null,
      "outputs": []
    },
    {
      "cell_type": "markdown",
      "source": [
        "### Run Train"
      ],
      "metadata": {
        "id": "YepXVegmK-m-"
      }
    },
    {
      "cell_type": "code",
      "source": [
        "def run_train(model = model, loss_fn = loss_fn, optimizer = optimizer, train_loader = train_loader, valid_loader = valid_loader):\n",
        "\n",
        "\n",
        "    n_epochs = 25 \n",
        "    print_iter =10\n",
        "\n",
        "    lowest_loss, lowest_epoch = np.inf, np.inf\n",
        "    early_stop = 30\n",
        "\n",
        "    train_hs, valid_hs = [],  [] # visualization\n",
        "    train_accs, valid_accs = [],  [] # visualization\n",
        "\n",
        "    for epoch in range(n_epochs):\n",
        "        train_loss, train_acc = train_one_epoch(model = model, dataloader = train_loader, loss_fn = loss_fn, optimizer = optimizer, \n",
        "                                      device = device, epoch = epoch)\n",
        "        valid_loss, valid_acc = valid_one_epoch(model = model, dataloader = valid_loader, loss_fn = loss_fn, \n",
        "                                      device = device, epoch = epoch)\n",
        "        # 줍줍\n",
        "        train_hs.append(train_loss)\n",
        "        valid_hs.append(valid_loss)\n",
        "\n",
        "        train_accs.append(train_acc)\n",
        "        valid_accs.append(valid_acc)\n",
        "\n",
        "        if (epoch + 1) % print_iter == 0:\n",
        "            print()\n",
        "            print(f\"Ep:[{epoch + 1:02d}]|TL:{train_loss:.4e}|VL:{valid_loss:.4e}|LL:{lowest_loss:.4e}|\")\n",
        "            print()\n",
        "        # Lowest Loss 갱신 - valid_loss 기준\n",
        "        if valid_loss < lowest_loss:\n",
        "            lowest_loss = valid_loss\n",
        "            lowest_epoch = epoch\n",
        "            # model 저장\n",
        "            torch.save(model.state_dict(), './model.bin') # pt, pth \n",
        "        \n",
        "        else:\n",
        "            if early_stop > 0 and lowest_epoch + early_stop < epoch + 1:\n",
        "                print(\"넌 삽 질 중\")\n",
        "                break\n",
        "\n",
        "    print()\n",
        "    print(\"The Best Validation Loss=%.4e at %d Epoch\" % (lowest_loss, lowest_epoch))\n",
        "\n",
        "    # model load\n",
        "    model.load_state_dict(torch.load('./model.bin'))\n",
        "\n",
        "\n",
        "    result = dict()\n",
        "    result[\"Train Loss\"] = train_hs\n",
        "    result[\"Valid Loss\"] = valid_hs\n",
        "\n",
        "    result[\"Train Acc\"] = train_accs\n",
        "    result[\"Valid Acc\"] = valid_accs\n",
        "\n",
        "\n",
        "    return result, model\n"
      ],
      "metadata": {
        "id": "oAOsyiqWg2ud"
      },
      "execution_count": null,
      "outputs": []
    },
    {
      "cell_type": "code",
      "source": [
        "result, model = run_train()"
      ],
      "metadata": {
        "id": "HiBtfOsfyRTd"
      },
      "execution_count": null,
      "outputs": []
    },
    {
      "cell_type": "code",
      "source": [],
      "metadata": {
        "id": "YPrSAuqtG92o"
      },
      "execution_count": null,
      "outputs": []
    },
    {
      "cell_type": "markdown",
      "source": [
        "### Visualization"
      ],
      "metadata": {
        "id": "IbJI6D5BLBRF"
      }
    },
    {
      "cell_type": "code",
      "source": [
        "## Train/Valid History\n",
        "plot_from = 0\n",
        "plt.figure(figsize=(20, 10))\n",
        "plt.title(\"Train/Valid Loss History\", fontsize = 20)\n",
        "plt.plot(\n",
        "    range(0, len(result['Train Loss'][plot_from:])), \n",
        "    result['Train Loss'][plot_from:], \n",
        "    label = 'Train Loss'\n",
        "    )\n",
        "\n",
        "plt.plot(\n",
        "    range(0, len(result['Valid Loss'][plot_from:])), \n",
        "    result['Valid Loss'][plot_from:], \n",
        "    label = 'Valid Loss'\n",
        "    )\n",
        "\n",
        "plt.legend()\n",
        "plt.yscale('log')\n",
        "plt.grid(True)\n",
        "plt.show()"
      ],
      "metadata": {
        "id": "JJCApV4legmt",
        "colab": {
          "base_uri": "https://localhost:8080/",
          "height": 612
        },
        "outputId": "153ebca0-5d11-43bb-841d-bc39b308b87a"
      },
      "execution_count": null,
      "outputs": [
        {
          "output_type": "display_data",
          "data": {
            "text/plain": [
              "<Figure size 1440x720 with 1 Axes>"
            ],
            "image/png": "[encoded data removed]"
          },
          "metadata": {
            "needs_background": "light"
          }
        }
      ]
    },
    {
      "cell_type": "code",
      "source": [
        "# Train/Valid Accuracy\n",
        "plot_from = 0\n",
        "plt.figure(figsize=(20, 10))\n",
        "plt.title(\"Train/Valid Accuracy History\", fontsize = 20)\n",
        "plt.plot(\n",
        "    range(0, len(result['Train Acc'])), \n",
        "    result['Train Acc'], \n",
        "    label = 'Train Acc'\n",
        "    )\n",
        "\n",
        "plt.plot(\n",
        "    range(0, len(result['Valid Acc'])), \n",
        "    result['Valid Acc'], \n",
        "    label = 'Valid Acc'\n",
        "    )\n",
        "\n",
        "plt.legend()\n",
        "# plt.yscale('log')\n",
        "plt.grid(True)\n",
        "plt.show()"
      ],
      "metadata": {
        "id": "Nv3rak5dlwoU",
        "colab": {
          "base_uri": "https://localhost:8080/",
          "height": 612
        },
        "outputId": "b98fd5fa-0897-4e3e-cb03-645835bee9cb"
      },
      "execution_count": null,
      "outputs": [
        {
          "output_type": "display_data",
          "data": {
            "text/plain": [
              "<Figure size 1440x720 with 1 Axes>"
            ],
            "image/png": "[encoded data removed]"
          },
          "metadata": {
            "needs_background": "light"
          }
        }
      ]
    },
    {
      "cell_type": "code",
      "source": [],
      "metadata": {
        "id": "67FXnAb6QTYp"
      },
      "execution_count": null,
      "outputs": []
    }
  ],
  "metadata": {
    "colab": {
      "provenance": [],
      "collapsed_sections": [
        "YepXVegmK-m-",
        "IbJI6D5BLBRF"
      ]
    },
    "gpuClass": "standard",
    "kernelspec": {
      "display_name": "Python 3",
      "name": "python3"
    },
    "language_info": {
      "name": "python"
    },
    "accelerator": "GPU"
  },
  "nbformat": 4,
  "nbformat_minor": 0
}