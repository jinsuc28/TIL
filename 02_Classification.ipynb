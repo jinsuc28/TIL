{
  "nbformat": 4,
  "nbformat_minor": 0,
  "metadata": {
    "colab": {
      "provenance": []
    },
    "kernelspec": {
      "name": "python3",
      "display_name": "Python 3"
    },
    "language_info": {
      "name": "python"
    },
    "accelerator": "GPU",
    "gpuClass": "standard",
    "widgets": {
      "application/vnd.jupyter.widget-state+json": {
        "71b30b769f7d4ba5a33da7db0b2fc431": {
          "model_module": "@jupyter-widgets/controls",
          "model_name": "HBoxModel",
          "model_module_version": "1.5.0",
          "state": {
            "_dom_classes": [],
            "_model_module": "@jupyter-widgets/controls",
            "_model_module_version": "1.5.0",
            "_model_name": "HBoxModel",
            "_view_count": null,
            "_view_module": "@jupyter-widgets/controls",
            "_view_module_version": "1.5.0",
            "_view_name": "HBoxView",
            "box_style": "",
            "children": [
              "IPY_MODEL_7726e2e384b146fea01eab619d618130",
              "IPY_MODEL_f2ce932476584009be2be25c6ca3318d",
              "IPY_MODEL_05ddcd80b7624e90b11ab9f6f50863e6"
            ],
            "layout": "IPY_MODEL_ebfc85feaa0f4820b440e1601f172f10"
          }
        },
        "7726e2e384b146fea01eab619d618130": {
          "model_module": "@jupyter-widgets/controls",
          "model_name": "HTMLModel",
          "model_module_version": "1.5.0",
          "state": {
            "_dom_classes": [],
            "_model_module": "@jupyter-widgets/controls",
            "_model_module_version": "1.5.0",
            "_model_name": "HTMLModel",
            "_view_count": null,
            "_view_module": "@jupyter-widgets/controls",
            "_view_module_version": "1.5.0",
            "_view_name": "HTMLView",
            "description": "",
            "description_tooltip": null,
            "layout": "IPY_MODEL_63f46022ead74cb49a58d16849f9338c",
            "placeholder": "​",
            "style": "IPY_MODEL_a050c063dac54a7e8244779768e3357c",
            "value": "100%"
          }
        },
        "f2ce932476584009be2be25c6ca3318d": {
          "model_module": "@jupyter-widgets/controls",
          "model_name": "FloatProgressModel",
          "model_module_version": "1.5.0",
          "state": {
            "_dom_classes": [],
            "_model_module": "@jupyter-widgets/controls",
            "_model_module_version": "1.5.0",
            "_model_name": "FloatProgressModel",
            "_view_count": null,
            "_view_module": "@jupyter-widgets/controls",
            "_view_module_version": "1.5.0",
            "_view_name": "ProgressView",
            "bar_style": "success",
            "description": "",
            "description_tooltip": null,
            "layout": "IPY_MODEL_bac8cf84eb7542b3879836ba9da7e56e",
            "max": 170498071,
            "min": 0,
            "orientation": "horizontal",
            "style": "IPY_MODEL_de49bd8298fd4e0e84849888d772e0c1",
            "value": 170498071
          }
        },
        "05ddcd80b7624e90b11ab9f6f50863e6": {
          "model_module": "@jupyter-widgets/controls",
          "model_name": "HTMLModel",
          "model_module_version": "1.5.0",
          "state": {
            "_dom_classes": [],
            "_model_module": "@jupyter-widgets/controls",
            "_model_module_version": "1.5.0",
            "_model_name": "HTMLModel",
            "_view_count": null,
            "_view_module": "@jupyter-widgets/controls",
            "_view_module_version": "1.5.0",
            "_view_name": "HTMLView",
            "description": "",
            "description_tooltip": null,
            "layout": "IPY_MODEL_4479021ed3b943858e2fc12bf3d42417",
            "placeholder": "​",
            "style": "IPY_MODEL_6d4e77aa66e641739f3bedbf6d635a21",
            "value": " 170498071/170498071 [00:06&lt;00:00, 32162506.96it/s]"
          }
        },
        "ebfc85feaa0f4820b440e1601f172f10": {
          "model_module": "@jupyter-widgets/base",
          "model_name": "LayoutModel",
          "model_module_version": "1.2.0",
          "state": {
            "_model_module": "@jupyter-widgets/base",
            "_model_module_version": "1.2.0",
            "_model_name": "LayoutModel",
            "_view_count": null,
            "_view_module": "@jupyter-widgets/base",
            "_view_module_version": "1.2.0",
            "_view_name": "LayoutView",
            "align_content": null,
            "align_items": null,
            "align_self": null,
            "border": null,
            "bottom": null,
            "display": null,
            "flex": null,
            "flex_flow": null,
            "grid_area": null,
            "grid_auto_columns": null,
            "grid_auto_flow": null,
            "grid_auto_rows": null,
            "grid_column": null,
            "grid_gap": null,
            "grid_row": null,
            "grid_template_areas": null,
            "grid_template_columns": null,
            "grid_template_rows": null,
            "height": null,
            "justify_content": null,
            "justify_items": null,
            "left": null,
            "margin": null,
            "max_height": null,
            "max_width": null,
            "min_height": null,
            "min_width": null,
            "object_fit": null,
            "object_position": null,
            "order": null,
            "overflow": null,
            "overflow_x": null,
            "overflow_y": null,
            "padding": null,
            "right": null,
            "top": null,
            "visibility": null,
            "width": null
          }
        },
        "63f46022ead74cb49a58d16849f9338c": {
          "model_module": "@jupyter-widgets/base",
          "model_name": "LayoutModel",
          "model_module_version": "1.2.0",
          "state": {
            "_model_module": "@jupyter-widgets/base",
            "_model_module_version": "1.2.0",
            "_model_name": "LayoutModel",
            "_view_count": null,
            "_view_module": "@jupyter-widgets/base",
            "_view_module_version": "1.2.0",
            "_view_name": "LayoutView",
            "align_content": null,
            "align_items": null,
            "align_self": null,
            "border": null,
            "bottom": null,
            "display": null,
            "flex": null,
            "flex_flow": null,
            "grid_area": null,
            "grid_auto_columns": null,
            "grid_auto_flow": null,
            "grid_auto_rows": null,
            "grid_column": null,
            "grid_gap": null,
            "grid_row": null,
            "grid_template_areas": null,
            "grid_template_columns": null,
            "grid_template_rows": null,
            "height": null,
            "justify_content": null,
            "justify_items": null,
            "left": null,
            "margin": null,
            "max_height": null,
            "max_width": null,
            "min_height": null,
            "min_width": null,
            "object_fit": null,
            "object_position": null,
            "order": null,
            "overflow": null,
            "overflow_x": null,
            "overflow_y": null,
            "padding": null,
            "right": null,
            "top": null,
            "visibility": null,
            "width": null
          }
        },
        "a050c063dac54a7e8244779768e3357c": {
          "model_module": "@jupyter-widgets/controls",
          "model_name": "DescriptionStyleModel",
          "model_module_version": "1.5.0",
          "state": {
            "_model_module": "@jupyter-widgets/controls",
            "_model_module_version": "1.5.0",
            "_model_name": "DescriptionStyleModel",
            "_view_count": null,
            "_view_module": "@jupyter-widgets/base",
            "_view_module_version": "1.2.0",
            "_view_name": "StyleView",
            "description_width": ""
          }
        },
        "bac8cf84eb7542b3879836ba9da7e56e": {
          "model_module": "@jupyter-widgets/base",
          "model_name": "LayoutModel",
          "model_module_version": "1.2.0",
          "state": {
            "_model_module": "@jupyter-widgets/base",
            "_model_module_version": "1.2.0",
            "_model_name": "LayoutModel",
            "_view_count": null,
            "_view_module": "@jupyter-widgets/base",
            "_view_module_version": "1.2.0",
            "_view_name": "LayoutView",
            "align_content": null,
            "align_items": null,
            "align_self": null,
            "border": null,
            "bottom": null,
            "display": null,
            "flex": null,
            "flex_flow": null,
            "grid_area": null,
            "grid_auto_columns": null,
            "grid_auto_flow": null,
            "grid_auto_rows": null,
            "grid_column": null,
            "grid_gap": null,
            "grid_row": null,
            "grid_template_areas": null,
            "grid_template_columns": null,
            "grid_template_rows": null,
            "height": null,
            "justify_content": null,
            "justify_items": null,
            "left": null,
            "margin": null,
            "max_height": null,
            "max_width": null,
            "min_height": null,
            "min_width": null,
            "object_fit": null,
            "object_position": null,
            "order": null,
            "overflow": null,
            "overflow_x": null,
            "overflow_y": null,
            "padding": null,
            "right": null,
            "top": null,
            "visibility": null,
            "width": null
          }
        },
        "de49bd8298fd4e0e84849888d772e0c1": {
          "model_module": "@jupyter-widgets/controls",
          "model_name": "ProgressStyleModel",
          "model_module_version": "1.5.0",
          "state": {
            "_model_module": "@jupyter-widgets/controls",
            "_model_module_version": "1.5.0",
            "_model_name": "ProgressStyleModel",
            "_view_count": null,
            "_view_module": "@jupyter-widgets/base",
            "_view_module_version": "1.2.0",
            "_view_name": "StyleView",
            "bar_color": null,
            "description_width": ""
          }
        },
        "4479021ed3b943858e2fc12bf3d42417": {
          "model_module": "@jupyter-widgets/base",
          "model_name": "LayoutModel",
          "model_module_version": "1.2.0",
          "state": {
            "_model_module": "@jupyter-widgets/base",
            "_model_module_version": "1.2.0",
            "_model_name": "LayoutModel",
            "_view_count": null,
            "_view_module": "@jupyter-widgets/base",
            "_view_module_version": "1.2.0",
            "_view_name": "LayoutView",
            "align_content": null,
            "align_items": null,
            "align_self": null,
            "border": null,
            "bottom": null,
            "display": null,
            "flex": null,
            "flex_flow": null,
            "grid_area": null,
            "grid_auto_columns": null,
            "grid_auto_flow": null,
            "grid_auto_rows": null,
            "grid_column": null,
            "grid_gap": null,
            "grid_row": null,
            "grid_template_areas": null,
            "grid_template_columns": null,
            "grid_template_rows": null,
            "height": null,
            "justify_content": null,
            "justify_items": null,
            "left": null,
            "margin": null,
            "max_height": null,
            "max_width": null,
            "min_height": null,
            "min_width": null,
            "object_fit": null,
            "object_position": null,
            "order": null,
            "overflow": null,
            "overflow_x": null,
            "overflow_y": null,
            "padding": null,
            "right": null,
            "top": null,
            "visibility": null,
            "width": null
          }
        },
        "6d4e77aa66e641739f3bedbf6d635a21": {
          "model_module": "@jupyter-widgets/controls",
          "model_name": "DescriptionStyleModel",
          "model_module_version": "1.5.0",
          "state": {
            "_model_module": "@jupyter-widgets/controls",
            "_model_module_version": "1.5.0",
            "_model_name": "DescriptionStyleModel",
            "_view_count": null,
            "_view_module": "@jupyter-widgets/base",
            "_view_module_version": "1.2.0",
            "_view_name": "StyleView",
            "description_width": ""
          }
        }
      }
    }
  },
  "cells": [
    {
      "cell_type": "markdown",
      "source": [
        "# Classification - CIFAR10 (CNN)"
      ],
      "metadata": {
        "id": "Mc8idirAKixK"
      }
    },
    {
      "cell_type": "markdown",
      "source": [
        "### import"
      ],
      "metadata": {
        "id": "EhaER8zIKnpJ"
      }
    },
    {
      "cell_type": "code",
      "source": [
        "import numpy as np\n",
        "import pandas as pd\n",
        "\n",
        "import matplotlib.pyplot as plt\n",
        "import seaborn as sns"
      ],
      "metadata": {
        "id": "PO6pn_qsl_GA"
      },
      "execution_count": null,
      "outputs": []
    },
    {
      "cell_type": "code",
      "source": [
        "import torch\n",
        "import torch.nn as nn # class Model(nn.Module)\n",
        "from torch.utils.data import Dataset, DataLoader\n",
        "\n",
        "import torchvision\n",
        "from torchvision import datasets, transforms"
      ],
      "metadata": {
        "id": "956Sep-TvPVS"
      },
      "execution_count": null,
      "outputs": []
    },
    {
      "cell_type": "code",
      "source": [
        "train_data = datasets.CIFAR10('./data', download = True, train = True, transform = transforms.ToTensor())\n",
        "test_data = datasets.CIFAR10('./data', download = True, train = False, transform = transforms.ToTensor())"
      ],
      "metadata": {
        "colab": {
          "base_uri": "https://localhost:8080/",
          "height": 103,
          "referenced_widgets": [
            "71b30b769f7d4ba5a33da7db0b2fc431",
            "7726e2e384b146fea01eab619d618130",
            "f2ce932476584009be2be25c6ca3318d",
            "05ddcd80b7624e90b11ab9f6f50863e6",
            "ebfc85feaa0f4820b440e1601f172f10",
            "63f46022ead74cb49a58d16849f9338c",
            "a050c063dac54a7e8244779768e3357c",
            "bac8cf84eb7542b3879836ba9da7e56e",
            "de49bd8298fd4e0e84849888d772e0c1",
            "4479021ed3b943858e2fc12bf3d42417",
            "6d4e77aa66e641739f3bedbf6d635a21"
          ]
        },
        "id": "G9hOAN5ql_Da",
        "outputId": "7464fe34-6674-4d4a-ca72-a93bd3aff560"
      },
      "execution_count": null,
      "outputs": [
        {
          "output_type": "stream",
          "name": "stdout",
          "text": [
            "Downloading https://www.cs.toronto.edu/~kriz/cifar-10-python.tar.gz to ./data/cifar-10-python.tar.gz\n"
          ]
        },
        {
          "output_type": "display_data",
          "data": {
            "text/plain": [
              "  0%|          | 0/170498071 [00:00<?, ?it/s]"
            ],
            "application/vnd.jupyter.widget-view+json": {
              "version_major": 2,
              "version_minor": 0,
              "model_id": "71b30b769f7d4ba5a33da7db0b2fc431"
            }
          },
          "metadata": {}
        },
        {
          "output_type": "stream",
          "name": "stdout",
          "text": [
            "Extracting ./data/cifar-10-python.tar.gz to ./data\n",
            "Files already downloaded and verified\n"
          ]
        }
      ]
    },
    {
      "cell_type": "markdown",
      "source": [
        "### Sample"
      ],
      "metadata": {
        "id": "K9nVgUAcKpno"
      }
    },
    {
      "cell_type": "code",
      "source": [
        "plt.imshow(train_data.data[0])"
      ],
      "metadata": {
        "id": "uykNF8y8yGJy"
      },
      "execution_count": null,
      "outputs": []
    },
    {
      "cell_type": "code",
      "source": [
        "train_data.data.shape # x: img"
      ],
      "metadata": {
        "id": "RjxyXmX8yGHE"
      },
      "execution_count": null,
      "outputs": []
    },
    {
      "cell_type": "code",
      "source": [
        "# train_data.data[0] # Float: 0 ~ 255"
      ],
      "metadata": {
        "id": "O7yT7PLQyGEl"
      },
      "execution_count": null,
      "outputs": []
    },
    {
      "cell_type": "code",
      "source": [
        "len(train_data.targets) # 0 ~ 9 : 10 class # list # int"
      ],
      "metadata": {
        "id": "qzmNagVtv1Uy"
      },
      "execution_count": null,
      "outputs": []
    },
    {
      "cell_type": "code",
      "source": [
        "a = train_data.data\n",
        "a.shape"
      ],
      "metadata": {
        "id": "TR2etuUhv1SL"
      },
      "execution_count": null,
      "outputs": []
    },
    {
      "cell_type": "code",
      "source": [
        "b = np.transpose(a, (0, 3, 1, 2))\n",
        "b.shape"
      ],
      "metadata": {
        "id": "uyfolKA6v1Pn"
      },
      "execution_count": null,
      "outputs": []
    },
    {
      "cell_type": "markdown",
      "source": [
        "### Dataset -> DataLoader"
      ],
      "metadata": {
        "id": "9lzMdxMpMtR-"
      }
    },
    {
      "cell_type": "code",
      "source": [
        "# train_data.data/ 255."
      ],
      "metadata": {
        "id": "P72CJoe5yfOM"
      },
      "execution_count": null,
      "outputs": []
    },
    {
      "cell_type": "code",
      "source": [
        "class MyDataset(Dataset):\n",
        "    def __init__(self, data = train_data.data, label = train_data.targets):\n",
        "        # 1) Float\n",
        "        self.x = np.transpose(data / 255., (0, 3, 1, 2))\n",
        "        self.y = label\n",
        "\n",
        "    def __len__(self):\n",
        "        return self.x.shape[0]\n",
        "    \n",
        "    def __getitem__(self, index):\n",
        "        x = self.x[index] # x: [3, 32, 32]\n",
        "        y = self.y[index] # y: () or 1\n",
        "        # return x, y\n",
        "        return torch.tensor(x, dtype = torch.float), torch.tensor(y, dtype = torch.long)"
      ],
      "metadata": {
        "id": "j2F5Ko20wWk8"
      },
      "execution_count": null,
      "outputs": []
    },
    {
      "cell_type": "code",
      "source": [
        "ds = MyDataset()\n",
        "data = next(iter(ds))\n",
        "data[0].shape, data[1].shape"
      ],
      "metadata": {
        "colab": {
          "base_uri": "https://localhost:8080/"
        },
        "id": "nAG3ERVfwWiY",
        "outputId": "81f178cc-131a-4245-b208-03bf49e0d446"
      },
      "execution_count": null,
      "outputs": [
        {
          "output_type": "execute_result",
          "data": {
            "text/plain": [
              "(torch.Size([3, 32, 32]), torch.Size([]))"
            ]
          },
          "metadata": {},
          "execution_count": 5
        }
      ]
    },
    {
      "cell_type": "code",
      "source": [
        "def prepare_loaders(df = train_data.data, bs = 256):\n",
        "    # train valid split\n",
        "    train = df[:30000]\n",
        "    valid = df[30000:]\n",
        "    # train_ds, valid_ds\n",
        "    train_ds = MyDataset(data=train, label=train_data.targets[:30000] )\n",
        "    valid_ds = MyDataset(data=valid, label=train_data.targets[30000:] )\n",
        "    # DataLoader\n",
        "    train_loader = DataLoader(train_ds, batch_size = bs, shuffle = True)\n",
        "    valid_loader = DataLoader(valid_ds, batch_size = bs, shuffle = False)\n",
        "    print(\"Completed DataLoader\")\n",
        "    return train_loader, valid_loader"
      ],
      "metadata": {
        "id": "8cfI1_R1wWf1"
      },
      "execution_count": null,
      "outputs": []
    },
    {
      "cell_type": "code",
      "source": [
        "train_loader, valid_loader = prepare_loaders()"
      ],
      "metadata": {
        "colab": {
          "base_uri": "https://localhost:8080/"
        },
        "id": "Ou5j1pAAwWdS",
        "outputId": "0030d6b4-ce91-4cf8-ef91-a121c8ab8b54"
      },
      "execution_count": null,
      "outputs": [
        {
          "output_type": "stream",
          "name": "stdout",
          "text": [
            "Completed DataLoader\n"
          ]
        }
      ]
    },
    {
      "cell_type": "code",
      "source": [
        "data = next(iter(train_loader))\n",
        "data[0].shape, data[1].shape"
      ],
      "metadata": {
        "id": "EU8d-FqaU5d0",
        "colab": {
          "base_uri": "https://localhost:8080/"
        },
        "outputId": "85e8b7bf-c83b-4f8c-f5ff-c998037e172c"
      },
      "execution_count": null,
      "outputs": [
        {
          "output_type": "execute_result",
          "data": {
            "text/plain": [
              "(torch.Size([256, 3, 32, 32]), torch.Size([256]))"
            ]
          },
          "metadata": {},
          "execution_count": 8
        }
      ]
    },
    {
      "cell_type": "markdown",
      "source": [
        "### CNNModel"
      ],
      "metadata": {
        "id": "XsqLfUbfKvtI"
      }
    },
    {
      "cell_type": "code",
      "source": [
        "device = torch.device(\"cuda:0\") if torch.cuda.is_available() else torch.device(\"cpu\")"
      ],
      "metadata": {
        "id": "fpEqtKNRyBkN"
      },
      "execution_count": null,
      "outputs": []
    },
    {
      "cell_type": "code",
      "source": [
        "class CNNModel(nn.Module):\n",
        "    def __init__(self):\n",
        "        super().__init__()\n",
        "\n",
        "        # input data's shape: [bs, 3, 32, 32]\n",
        "        # conv\n",
        "        self.conv1 = nn.Conv2d(in_channels = 3, out_channels= 8, kernel_size = 3, stride = 1, padding = 1)\n",
        "        #  [bs, 3, 32, 32] ->  [bs, 8, 32, 32]\n",
        "        self.conv2 = nn.Conv2d(in_channels = 8, out_channels = 16, kernel_size = 7, stride = 1, padding =0)\n",
        "        #  [bs, 8, 32, 32] ->  [bs, 16, 26, 26]\n",
        "        self.pool = nn.MaxPool2d(2, 2)\n",
        "        #  [bs, 16, 26, 26] -> [bs, 16, 13, 13]\n",
        "\n",
        "        # [bs, 16, 13, 13] -> [bs, k] -> [bs, 64*4]\n",
        "        k = 16* 13 * 13\n",
        "        self.fc1= nn.Linear(k, 64*4)\n",
        "        self.relu = nn.ReLU()\n",
        "        self.fc = nn.Linear(64*4, 10)\n",
        "        # nn.Softmax(dim=-1)\n",
        "        # [bs, 64*4] -> [bs, 10]\n",
        "\n",
        "    def forward(self, x):\n",
        "        # 함수로 엮어주는 공간\n",
        "        x = self.pool(self.conv2(self.conv1(x)))\n",
        "        # x :[bs, 16, 13, 13] \n",
        "\n",
        "        # 1)\n",
        "        x = torch.flatten(x, 1) # [bs, 16, 13, 13] -> [bs, k]\n",
        "        # 2) \n",
        "        # x = x.reshape(x.shape[0], -1) # [bs, 16, 13, 13] -> [bs, k]\n",
        "\n",
        "        y = self.fc(self.relu(self.fc1(x)))\n",
        "        return y"
      ],
      "metadata": {
        "id": "YmmD2AZJ0OPq"
      },
      "execution_count": null,
      "outputs": []
    },
    {
      "cell_type": "code",
      "source": [
        "a = torch.randn(256, 16, 13, 13)\n",
        "a.shape"
      ],
      "metadata": {
        "id": "DRNAUDzt0ONW"
      },
      "execution_count": null,
      "outputs": []
    },
    {
      "cell_type": "code",
      "source": [
        "b = a.reshape(256, -1)\n",
        "b.shape"
      ],
      "metadata": {
        "id": "VV3GMEhB0OK9"
      },
      "execution_count": null,
      "outputs": []
    },
    {
      "cell_type": "code",
      "source": [
        "16*13*13"
      ],
      "metadata": {
        "id": "MQS-mXGK0OIO"
      },
      "execution_count": null,
      "outputs": []
    },
    {
      "cell_type": "code",
      "source": [
        "model = CNNModel().to(device)\n",
        "model"
      ],
      "metadata": {
        "colab": {
          "base_uri": "https://localhost:8080/"
        },
        "id": "ijdQ_Q1T0OFm",
        "outputId": "478eec5c-cf7b-45f1-9bac-c14cc243bb0a"
      },
      "execution_count": null,
      "outputs": [
        {
          "output_type": "execute_result",
          "data": {
            "text/plain": [
              "CNNModel(\n",
              "  (conv1): Conv2d(3, 8, kernel_size=(3, 3), stride=(1, 1), padding=(1, 1))\n",
              "  (conv2): Conv2d(8, 16, kernel_size=(7, 7), stride=(1, 1))\n",
              "  (pool): MaxPool2d(kernel_size=2, stride=2, padding=0, dilation=1, ceil_mode=False)\n",
              "  (fc1): Linear(in_features=2704, out_features=256, bias=True)\n",
              "  (relu): ReLU()\n",
              "  (fc): Linear(in_features=256, out_features=10, bias=True)\n",
              ")"
            ]
          },
          "metadata": {},
          "execution_count": 10
        }
      ]
    },
    {
      "cell_type": "code",
      "source": [],
      "metadata": {
        "id": "Ux7cna53Z7L5"
      },
      "execution_count": null,
      "outputs": []
    },
    {
      "cell_type": "markdown",
      "source": [
        "### Lossfunction, Optimizer"
      ],
      "metadata": {
        "id": "etL7qal6KyQ8"
      }
    },
    {
      "cell_type": "code",
      "source": [
        "loss_fn = nn.NLLLoss().to(device)\n",
        "optimizer = torch.optim.Adam(model.parameters())"
      ],
      "metadata": {
        "id": "UTzHeqo4K4tL"
      },
      "execution_count": null,
      "outputs": []
    },
    {
      "cell_type": "markdown",
      "source": [
        "### train_one_epoch"
      ],
      "metadata": {
        "id": "dqLM3JwGK4KV"
      }
    },
    {
      "cell_type": "code",
      "source": [
        "# train_loss => 실시간 단위로 구할 예정\n",
        "# accuracy => 실시간 단위로 구할 예정\n",
        "\n",
        "from tqdm import tqdm\n",
        "epoch = 1\n",
        "\n",
        "def train_one_epoch(model = model, dataloader = train_loader, loss_fn = loss_fn, \n",
        "                    optimizer = optimizer, device = device, epoch = epoch):\n",
        "    model.train()\n",
        "    train_loss, dataset_size = 0,  0\n",
        "\n",
        "    preds, trues = [], []\n",
        "\n",
        "    bar = tqdm(dataloader, total = len(dataloader))\n",
        "    for data in bar:\n",
        "        x = data[0].to(device)      # x: [bs, 3, 32, 32]\n",
        "        y_true = data[1].to(device) # y_true: [bs, 1]\n",
        "        y_pred = model(x)           # y_pred: [bs, 10]\n",
        "        y_pred = nn.LogSoftmax(dim = -1)(y_pred)\n",
        "        loss = loss_fn(y_pred, y_true)\n",
        "\n",
        "        optimizer.zero_grad()\n",
        "        loss.backward()\n",
        "        optimizer.step()\n",
        "\n",
        "        # 실시간으로 train loss \n",
        "        # train_loss += loss.item()\n",
        "    # train_loss / len(dataloader)\n",
        "\n",
        "        bs = x.shape[0]\n",
        "        dataset_size += bs # 실시간 크기 정보가 나옴 batch_size\n",
        "        train_loss += (loss.item() * bs)\n",
        "        train_loss /= dataset_size \n",
        "\n",
        "        # 실시간 Accuracy\n",
        "        preds.append(y_pred) # preds: [ [bs, 10], [bs, 10], [bs, 10], ...]\n",
        "        trues.append(y_true) # trues: [ [bs, 1], [bs, 1], [bs, 1], ...]\n",
        "\n",
        "        # concat\n",
        "        preds_cat = torch.cat(preds, dim = 0) # [total_bs, 10]\n",
        "        trues_cat = torch.cat(trues, dim = 0) # [total_bs, 1]\n",
        "\n",
        "        # (torch.argmax(preds_cat, dim =-1) == trues_cat).sum() # 전체 맞은 개수\n",
        "        train_acc = 100*(torch.argmax(preds_cat, dim =-1) == trues_cat).sum().item() / dataset_size\n",
        "        bar.set_description(f\"Epoch{epoch:02d}|TL:{train_loss:.3e}|ACCURACY:{train_acc:.2f}\")\n",
        "\n",
        "    return train_loss, train_acc\n"
      ],
      "metadata": {
        "id": "461aBcaoRCyG"
      },
      "execution_count": null,
      "outputs": []
    },
    {
      "cell_type": "code",
      "source": [
        "for epoch in range(10):\n",
        "    train_loss = train_one_epoch(epoch = epoch)"
      ],
      "metadata": {
        "id": "clwh8b3GK7R4",
        "colab": {
          "base_uri": "https://localhost:8080/"
        },
        "outputId": "54c40e1a-4573-411a-db8d-d01696f9a1f4"
      },
      "execution_count": null,
      "outputs": [
        {
          "output_type": "stream",
          "name": "stderr",
          "text": [
            "Epoch00|TL:2.085e-03|ACCURACY:38.59: 100%|██████████| 118/118 [00:08<00:00, 13.68it/s]\n",
            "Epoch01|TL:1.619e-03|ACCURACY:50.63: 100%|██████████| 118/118 [00:01<00:00, 63.94it/s]\n",
            "Epoch02|TL:1.767e-03|ACCURACY:57.09: 100%|██████████| 118/118 [00:01<00:00, 60.35it/s]\n",
            "Epoch03|TL:1.389e-03|ACCURACY:61.74: 100%|██████████| 118/118 [00:01<00:00, 59.68it/s]\n",
            "Epoch04|TL:1.435e-03|ACCURACY:66.12: 100%|██████████| 118/118 [00:01<00:00, 61.94it/s]\n",
            "Epoch05|TL:1.710e-03|ACCURACY:70.49: 100%|██████████| 118/118 [00:01<00:00, 62.35it/s]\n",
            "Epoch06|TL:1.147e-03|ACCURACY:74.48: 100%|██████████| 118/118 [00:01<00:00, 62.80it/s]\n",
            "Epoch07|TL:8.595e-04|ACCURACY:78.73: 100%|██████████| 118/118 [00:01<00:00, 63.42it/s]\n",
            "Epoch08|TL:9.881e-04|ACCURACY:82.18: 100%|██████████| 118/118 [00:01<00:00, 60.65it/s]\n",
            "Epoch09|TL:4.758e-04|ACCURACY:85.81: 100%|██████████| 118/118 [00:01<00:00, 63.37it/s]\n"
          ]
        }
      ]
    },
    {
      "cell_type": "markdown",
      "source": [
        "### valid one epoch"
      ],
      "metadata": {
        "id": "sK6Ui3l8K70p"
      }
    },
    {
      "cell_type": "code",
      "source": [
        "# train_loss => 실시간 단위로 구할 예정\n",
        "# accuracy => 실시간 단위로 구할 예정\n",
        "\n",
        "from tqdm import tqdm\n",
        "epoch = 1\n",
        "\n",
        "@torch.no_grad()\n",
        "def valid_one_epoch(model = model, dataloader = valid_loader, loss_fn = loss_fn, \n",
        "                    device = device, epoch = epoch):\n",
        "    model.eval()\n",
        "    valid_loss, dataset_size = 0,  0\n",
        "\n",
        "    preds, trues = [], []\n",
        "\n",
        "    bar = tqdm(dataloader, total = len(dataloader))\n",
        "    with torch.no_grad():\n",
        "        for data in bar:\n",
        "            x = data[0].to(device)      # x: [bs, 3, 32, 32]\n",
        "            y_true = data[1].to(device) # y_true: [bs, 1]\n",
        "            y_pred = model(x)           # y_pred: [bs, 10]\n",
        "            y_pred = nn.LogSoftmax(dim = -1)(y_pred)\n",
        "            loss = loss_fn(y_pred, y_true)\n",
        "\n",
        "            bs = x.shape[0]\n",
        "            dataset_size += bs # 실시간 크기 정보가 나옴 batch_size\n",
        "            valid_loss += (loss.item() * bs)\n",
        "            valid_loss /= dataset_size \n",
        "\n",
        "            # 실시간 Accuracy\n",
        "            preds.append(y_pred) # preds: [ [bs, 10], [bs, 10], [bs, 10], ...]\n",
        "            trues.append(y_true) # trues: [ [bs, 1], [bs, 1], [bs, 1], ...]\n",
        "\n",
        "            # concat\n",
        "            preds_cat = torch.cat(preds, dim = 0) # [total_bs, 10]\n",
        "            trues_cat = torch.cat(trues, dim = 0) # [total_bs, 1]\n",
        "\n",
        "            # (torch.argmax(preds_cat, dim =-1) == trues_cat).sum() # 전체 맞은 개수\n",
        "            valid_acc = 100*(torch.argmax(preds_cat, dim =-1) == trues_cat).sum().item() / dataset_size\n",
        "            bar.set_description(f\"Epoch{epoch:02d}|VL:{valid_loss:.3e}|ACCURACY:{valid_acc:.2f}\")\n",
        "\n",
        "    return valid_loss, valid_acc\n"
      ],
      "metadata": {
        "id": "YM6GfVR4yQDF"
      },
      "execution_count": null,
      "outputs": []
    },
    {
      "cell_type": "markdown",
      "source": [
        "### Run Train"
      ],
      "metadata": {
        "id": "YepXVegmK-m-"
      }
    },
    {
      "cell_type": "code",
      "source": [
        "def run_train(model = model, loss_fn = loss_fn, optimizer = optimizer, train_loader = train_loader, valid_loader = valid_loader):\n",
        "\n",
        "\n",
        "    n_epochs = 120\n",
        "    print_iter =10\n",
        "    lowest_loss, lowest_epoch = np.inf, np.inf\n",
        "    early_stop = 20\n",
        "    train_hs, valid_hs = [],  [] # visualization\n",
        "    train_accs, valid_accs = [],  [] # visualization\n",
        "    for epoch in range(n_epochs):\n",
        "        train_loss, train_acc = train_one_epoch(model = model, dataloader = train_loader, loss_fn = loss_fn, optimizer = optimizer, \n",
        "                                      device = device, epoch = epoch)\n",
        "        valid_loss, valid_acc = valid_one_epoch(model = model, dataloader = valid_loader, loss_fn = loss_fn, \n",
        "                                      device = device, epoch = epoch)\n",
        "        # 줍줍\n",
        "        train_hs.append(train_loss)\n",
        "        valid_hs.append(valid_loss)\n",
        "\n",
        "        train_accs.append(train_acc)\n",
        "        valid_accs.append(valid_acc)\n",
        "\n",
        "        if (epoch + 1) % print_iter == 0:\n",
        "            print()\n",
        "            print(f\"Ep:[{epoch:02d}]|TL:{train_loss:.4e}|VL:{valid_loss:.4e}|LL:{lowest_loss:.4e}|\")\n",
        "            print()\n",
        "        # Lowest Loss 갱신 - valid_loss 기준\n",
        "        if valid_loss < lowest_loss:\n",
        "            lowest_loss = valid_loss\n",
        "            lowest_epoch = epoch\n",
        "            # model 저장\n",
        "            torch.save(model.state_dict(), './model.bin') # pt, pth \n",
        "        \n",
        "        else:\n",
        "            if early_stop > 0 and lowest_epoch + early_stop < epoch + 1:\n",
        "                print(\"넌 삽 질 중\")\n",
        "                break\n",
        "\n",
        "    print()\n",
        "    print(\"The Best Validation Loss=%.4e at %d Epoch\" % (lowest_loss, lowest_epoch))\n",
        "\n",
        "    # model load\n",
        "    model.load_state_dict(torch.load('./model.bin'))\n",
        "\n",
        "\n",
        "    result = dict()\n",
        "    result[\"Train Loss\"] = train_hs\n",
        "    result[\"Valid Loss\"] = valid_hs\n",
        "\n",
        "    result[\"Train Acc\"] = train_accs\n",
        "    result[\"Valid Acc\"] = valid_accs\n",
        "\n",
        "\n",
        "    return result, model\n"
      ],
      "metadata": {
        "id": "oAOsyiqWg2ud"
      },
      "execution_count": null,
      "outputs": []
    },
    {
      "cell_type": "code",
      "source": [
        "result, model = run_train()"
      ],
      "metadata": {
        "id": "HiBtfOsfyRTd",
        "colab": {
          "base_uri": "https://localhost:8080/"
        },
        "outputId": "de44842e-d5bf-4005-bff1-417a5c0aa894"
      },
      "execution_count": null,
      "outputs": [
        {
          "output_type": "stream",
          "name": "stderr",
          "text": [
            "Epoch00|TL:2.264e-03|ACCURACY:36.27: 100%|██████████| 118/118 [00:08<00:00, 14.54it/s]\n",
            "Epoch00|VL:3.155e-03|ACCURACY:40.94: 100%|██████████| 79/79 [00:00<00:00, 92.06it/s]\n",
            "Epoch01|TL:2.190e-03|ACCURACY:48.06: 100%|██████████| 118/118 [00:01<00:00, 64.08it/s]\n",
            "Epoch01|VL:2.589e-03|ACCURACY:50.49: 100%|██████████| 79/79 [00:00<00:00, 91.57it/s]\n",
            "Epoch02|TL:2.237e-03|ACCURACY:54.14: 100%|██████████| 118/118 [00:02<00:00, 58.11it/s]\n",
            "Epoch02|VL:2.561e-03|ACCURACY:53.72: 100%|██████████| 79/79 [00:00<00:00, 90.49it/s]\n",
            "Epoch03|TL:1.642e-03|ACCURACY:59.83: 100%|██████████| 118/118 [00:01<00:00, 61.42it/s]\n",
            "Epoch03|VL:2.579e-03|ACCURACY:56.12: 100%|██████████| 79/79 [00:00<00:00, 85.69it/s]\n",
            "Epoch04|TL:1.532e-03|ACCURACY:64.24: 100%|██████████| 118/118 [00:01<00:00, 60.41it/s]\n",
            "Epoch04|VL:2.627e-03|ACCURACY:56.92: 100%|██████████| 79/79 [00:00<00:00, 83.77it/s]\n",
            "Epoch05|TL:1.401e-03|ACCURACY:68.19: 100%|██████████| 118/118 [00:01<00:00, 62.45it/s]\n",
            "Epoch05|VL:2.239e-03|ACCURACY:59.82: 100%|██████████| 79/79 [00:00<00:00, 91.02it/s]\n",
            "Epoch06|TL:1.450e-03|ACCURACY:71.62: 100%|██████████| 118/118 [00:01<00:00, 63.22it/s]\n",
            "Epoch06|VL:2.112e-03|ACCURACY:60.42: 100%|██████████| 79/79 [00:00<00:00, 90.75it/s]\n",
            "Epoch07|TL:1.007e-03|ACCURACY:75.53: 100%|██████████| 118/118 [00:01<00:00, 60.80it/s]\n",
            "Epoch07|VL:2.215e-03|ACCURACY:59.51: 100%|██████████| 79/79 [00:00<00:00, 83.77it/s]\n",
            "Epoch08|TL:9.525e-04|ACCURACY:79.05: 100%|██████████| 118/118 [00:01<00:00, 63.26it/s]\n",
            "Epoch08|VL:2.297e-03|ACCURACY:59.25: 100%|██████████| 79/79 [00:00<00:00, 88.08it/s]\n",
            "Epoch09|TL:7.525e-04|ACCURACY:82.11: 100%|██████████| 118/118 [00:01<00:00, 60.61it/s]\n",
            "Epoch09|VL:2.088e-03|ACCURACY:60.24: 100%|██████████| 79/79 [00:00<00:00, 93.69it/s]\n"
          ]
        },
        {
          "output_type": "stream",
          "name": "stdout",
          "text": [
            "\n",
            "Ep:[09]|TL:7.5246e-04|VL:2.0881e-03|LL:2.1122e-03|\n",
            "\n"
          ]
        },
        {
          "output_type": "stream",
          "name": "stderr",
          "text": [
            "Epoch10|TL:9.728e-04|ACCURACY:85.95: 100%|██████████| 118/118 [00:01<00:00, 60.78it/s]\n",
            "Epoch10|VL:2.135e-03|ACCURACY:60.03: 100%|██████████| 79/79 [00:00<00:00, 89.64it/s]\n",
            "Epoch11|TL:6.568e-04|ACCURACY:88.79: 100%|██████████| 118/118 [00:01<00:00, 59.39it/s]\n",
            "Epoch11|VL:2.396e-03|ACCURACY:60.09: 100%|██████████| 79/79 [00:00<00:00, 89.55it/s]\n",
            "Epoch12|TL:3.763e-04|ACCURACY:91.65: 100%|██████████| 118/118 [00:01<00:00, 62.50it/s]\n",
            "Epoch12|VL:2.379e-03|ACCURACY:59.62: 100%|██████████| 79/79 [00:00<00:00, 93.84it/s]\n",
            "Epoch13|TL:1.569e-04|ACCURACY:93.52: 100%|██████████| 118/118 [00:01<00:00, 61.70it/s]\n",
            "Epoch13|VL:2.871e-03|ACCURACY:59.02: 100%|██████████| 79/79 [00:00<00:00, 87.06it/s]\n",
            "Epoch14|TL:2.792e-04|ACCURACY:95.74: 100%|██████████| 118/118 [00:02<00:00, 53.64it/s]\n",
            "Epoch14|VL:3.311e-03|ACCURACY:59.54: 100%|██████████| 79/79 [00:01<00:00, 64.54it/s]\n",
            "Epoch15|TL:1.660e-04|ACCURACY:96.93: 100%|██████████| 118/118 [00:02<00:00, 51.95it/s]\n",
            "Epoch15|VL:3.200e-03|ACCURACY:59.13: 100%|██████████| 79/79 [00:00<00:00, 91.04it/s]\n",
            "Epoch16|TL:8.910e-05|ACCURACY:97.99: 100%|██████████| 118/118 [00:01<00:00, 61.21it/s]\n",
            "Epoch16|VL:3.630e-03|ACCURACY:58.99: 100%|██████████| 79/79 [00:00<00:00, 91.50it/s]\n",
            "Epoch17|TL:8.609e-05|ACCURACY:98.65: 100%|██████████| 118/118 [00:01<00:00, 62.52it/s]\n",
            "Epoch17|VL:3.970e-03|ACCURACY:58.77: 100%|██████████| 79/79 [00:00<00:00, 91.88it/s]\n",
            "Epoch18|TL:6.734e-05|ACCURACY:99.23: 100%|██████████| 118/118 [00:01<00:00, 63.88it/s]\n",
            "Epoch18|VL:3.981e-03|ACCURACY:58.86: 100%|██████████| 79/79 [00:00<00:00, 89.31it/s]\n",
            "Epoch19|TL:3.674e-05|ACCURACY:99.42: 100%|██████████| 118/118 [00:02<00:00, 58.64it/s]\n",
            "Epoch19|VL:5.124e-03|ACCURACY:59.20: 100%|██████████| 79/79 [00:00<00:00, 88.84it/s]\n"
          ]
        },
        {
          "output_type": "stream",
          "name": "stdout",
          "text": [
            "\n",
            "Ep:[19]|TL:3.6736e-05|VL:5.1237e-03|LL:2.0881e-03|\n",
            "\n"
          ]
        },
        {
          "output_type": "stream",
          "name": "stderr",
          "text": [
            "Epoch20|TL:3.185e-05|ACCURACY:99.62: 100%|██████████| 118/118 [00:01<00:00, 62.66it/s]\n",
            "Epoch20|VL:4.781e-03|ACCURACY:58.84: 100%|██████████| 79/79 [00:00<00:00, 91.28it/s]\n",
            "Epoch21|TL:1.026e-05|ACCURACY:99.81: 100%|██████████| 118/118 [00:01<00:00, 62.97it/s]\n",
            "Epoch21|VL:5.106e-03|ACCURACY:59.44: 100%|██████████| 79/79 [00:00<00:00, 85.53it/s]\n",
            "Epoch22|TL:1.177e-05|ACCURACY:99.89: 100%|██████████| 118/118 [00:01<00:00, 60.68it/s]\n",
            "Epoch22|VL:5.034e-03|ACCURACY:59.44: 100%|██████████| 79/79 [00:00<00:00, 92.05it/s]\n",
            "Epoch23|TL:2.260e-05|ACCURACY:99.95: 100%|██████████| 118/118 [00:01<00:00, 60.36it/s]\n",
            "Epoch23|VL:5.493e-03|ACCURACY:59.44: 100%|██████████| 79/79 [00:00<00:00, 91.82it/s]\n",
            "Epoch24|TL:4.637e-05|ACCURACY:99.53: 100%|██████████| 118/118 [00:01<00:00, 62.08it/s]\n",
            "Epoch24|VL:5.480e-03|ACCURACY:57.88: 100%|██████████| 79/79 [00:00<00:00, 83.33it/s]\n",
            "Epoch25|TL:6.820e-04|ACCURACY:92.03: 100%|██████████| 118/118 [00:01<00:00, 62.95it/s]\n",
            "Epoch25|VL:5.310e-03|ACCURACY:57.61: 100%|██████████| 79/79 [00:00<00:00, 92.39it/s]\n",
            "Epoch26|TL:3.554e-04|ACCURACY:92.26: 100%|██████████| 118/118 [00:01<00:00, 60.30it/s]\n",
            "Epoch26|VL:4.594e-03|ACCURACY:58.22: 100%|██████████| 79/79 [00:00<00:00, 90.34it/s]\n",
            "Epoch27|TL:5.240e-05|ACCURACY:97.58: 100%|██████████| 118/118 [00:02<00:00, 58.82it/s]\n",
            "Epoch27|VL:4.940e-03|ACCURACY:59.23: 100%|██████████| 79/79 [00:00<00:00, 90.00it/s]\n",
            "Epoch28|TL:3.877e-05|ACCURACY:99.65: 100%|██████████| 118/118 [00:01<00:00, 61.78it/s]\n",
            "Epoch28|VL:4.717e-03|ACCURACY:59.61: 100%|██████████| 79/79 [00:00<00:00, 90.39it/s]\n",
            "Epoch29|TL:2.868e-05|ACCURACY:99.96: 100%|██████████| 118/118 [00:01<00:00, 62.99it/s]\n",
            "Epoch29|VL:4.743e-03|ACCURACY:59.77: 100%|██████████| 79/79 [00:00<00:00, 89.59it/s]\n"
          ]
        },
        {
          "output_type": "stream",
          "name": "stdout",
          "text": [
            "\n",
            "Ep:[29]|TL:2.8681e-05|VL:4.7428e-03|LL:2.0881e-03|\n",
            "\n",
            "넌 삽 질 중\n",
            "\n",
            "The Best Validation Loss=2.0881e-03 at 9 Epoch\n"
          ]
        }
      ]
    },
    {
      "cell_type": "code",
      "source": [],
      "metadata": {
        "id": "4WT3B8JxyRNR"
      },
      "execution_count": null,
      "outputs": []
    },
    {
      "cell_type": "markdown",
      "source": [
        "### Visualization"
      ],
      "metadata": {
        "id": "IbJI6D5BLBRF"
      }
    },
    {
      "cell_type": "code",
      "source": [
        "## Train/Valid History\n",
        "plot_from = 0\n",
        "plt.figure(figsize=(20, 10))\n",
        "plt.title(\"Train/Valid Loss History\", fontsize = 20)\n",
        "plt.plot(\n",
        "    range(0, len(result['Train Loss'][plot_from:])), \n",
        "    result['Train Loss'][plot_from:], \n",
        "    label = 'Train Loss'\n",
        "    )\n",
        "\n",
        "plt.plot(\n",
        "    range(0, len(result['Valid Loss'][plot_from:])), \n",
        "    result['Valid Loss'][plot_from:], \n",
        "    label = 'Valid Loss'\n",
        "    )\n",
        "\n",
        "plt.legend()\n",
        "plt.yscale('log')\n",
        "plt.grid(True)\n",
        "plt.show()"
      ],
      "metadata": {
        "id": "JJCApV4legmt",
        "colab": {
          "base_uri": "https://localhost:8080/",
          "height": 612
        },
        "outputId": "6575e1a0-bd48-4e1d-f7d1-1aa5781313a1"
      },
      "execution_count": null,
      "outputs": [
        {
          "output_type": "display_data",
          "data": {
            "text/plain": [
              "<Figure size 1440x720 with 1 Axes>"
            ],
            "image/png": "[encoded data removed]"
          },
          "metadata": {
            "needs_background": "light"
          }
        }
      ]
    },
    {
      "cell_type": "code",
      "source": [
        "# Train/Valid Accuracy\n",
        "plot_from = 0\n",
        "plt.figure(figsize=(20, 10))\n",
        "plt.title(\"Train/Valid Accuracy History\", fontsize = 20)\n",
        "plt.plot(\n",
        "    range(0, len(result['Train Acc'])), \n",
        "    result['Train Acc'], \n",
        "    label = 'Train Acc'\n",
        "    )\n",
        "\n",
        "plt.plot(\n",
        "    range(0, len(result['Valid Acc'])), \n",
        "    result['Valid Acc'], \n",
        "    label = 'Valid Acc'\n",
        "    )\n",
        "\n",
        "plt.legend()\n",
        "# plt.yscale('log')\n",
        "plt.grid(True)\n",
        "plt.show()"
      ],
      "metadata": {
        "id": "Nv3rak5dlwoU",
        "colab": {
          "base_uri": "https://localhost:8080/",
          "height": 612
        },
        "outputId": "1c95fd90-27c8-4f16-bf40-6e54714d878a"
      },
      "execution_count": null,
      "outputs": [
        {
          "output_type": "display_data",
          "data": {
            "text/plain": [
              "<Figure size 1440x720 with 1 Axes>"
            ],
            "image/png": "[encoded data removed]"
          },
          "metadata": {
            "needs_background": "light"
          }
        }
      ]
    },
    {
      "cell_type": "code",
      "source": [
        " "
      ],
      "metadata": {
        "id": "vA9AINpZLFGl"
      },
      "execution_count": null,
      "outputs": []
    },
    {
      "cell_type": "code",
      "source": [],
      "metadata": {
        "id": "W3iMhpG5KhlV"
      },
      "execution_count": null,
      "outputs": []
    },
    {
      "cell_type": "code",
      "source": [],
      "metadata": {
        "id": "tacJN_DIKhiR"
      },
      "execution_count": null,
      "outputs": []
    },
    {
      "cell_type": "markdown",
      "source": [
        "## SAMPLE SIMULATION"
      ],
      "metadata": {
        "id": "BTLig1wTKiFx"
      }
    },
    {
      "cell_type": "code",
      "source": [
        "plt.imshow(train_data.data[0])"
      ],
      "metadata": {
        "colab": {
          "base_uri": "https://localhost:8080/",
          "height": 284
        },
        "id": "fMJsUyQE5q4U",
        "outputId": "02e28eb2-3413-483b-b4ee-b3c4a554f1a5"
      },
      "execution_count": null,
      "outputs": [
        {
          "output_type": "execute_result",
          "data": {
            "text/plain": [
              "<matplotlib.image.AxesImage at 0x7fef862a7f50>"
            ]
          },
          "metadata": {},
          "execution_count": 33
        },
        {
          "output_type": "display_data",
          "data": {
            "text/plain": [
              "<Figure size 432x288 with 1 Axes>"
            ],
            "image/png": "[encoded data removed]"
          },
          "metadata": {
            "needs_background": "light"
          }
        }
      ]
    },
    {
      "cell_type": "code",
      "source": [
        "sample = torch.tensor(train_data.data[0], dtype = torch.float).permute(2, 0, 1).unsqueeze(0)"
      ],
      "metadata": {
        "id": "wNU6CxtH5q1o"
      },
      "execution_count": null,
      "outputs": []
    },
    {
      "cell_type": "code",
      "source": [
        "sample.shape"
      ],
      "metadata": {
        "colab": {
          "base_uri": "https://localhost:8080/"
        },
        "id": "mFga21xk6PfH",
        "outputId": "a3b9d4d2-45e3-4d20-f4f8-4cc2c9b5ed37"
      },
      "execution_count": null,
      "outputs": [
        {
          "output_type": "execute_result",
          "data": {
            "text/plain": [
              "torch.Size([1, 3, 32, 32])"
            ]
          },
          "metadata": {},
          "execution_count": 35
        }
      ]
    },
    {
      "cell_type": "code",
      "source": [
        "out = nn.Sequential(nn.Conv2d(3, 3, 3, 1, 1), nn.BatchNorm2d(3))(sample)\n",
        "    # nn.BatchNorm(3)\n",
        "\n",
        "out.shape"
      ],
      "metadata": {
        "colab": {
          "base_uri": "https://localhost:8080/"
        },
        "id": "Heu1Je4U5qzK",
        "outputId": "b3cfaf62-c7c1-4cd2-d708-1d3fadabd1b9"
      },
      "execution_count": null,
      "outputs": [
        {
          "output_type": "execute_result",
          "data": {
            "text/plain": [
              "torch.Size([1, 3, 32, 32])"
            ]
          },
          "metadata": {},
          "execution_count": 37
        }
      ]
    },
    {
      "cell_type": "code",
      "source": [
        "plt.imshow(out.squeeze(0).permute(1, 2, 0).detach().cpu().numpy())"
      ],
      "metadata": {
        "colab": {
          "base_uri": "https://localhost:8080/",
          "height": 302
        },
        "id": "t16IVKJQ5qwg",
        "outputId": "32d41eca-293b-46ac-a4ff-18950a17e160"
      },
      "execution_count": null,
      "outputs": [
        {
          "output_type": "stream",
          "name": "stderr",
          "text": [
            "WARNING:matplotlib.image:Clipping input data to the valid range for imshow with RGB data ([0..1] for floats or [0..255] for integers).\n"
          ]
        },
        {
          "output_type": "execute_result",
          "data": {
            "text/plain": [
              "<matplotlib.image.AxesImage at 0x7fef86218e10>"
            ]
          },
          "metadata": {},
          "execution_count": 38
        },
        {
          "output_type": "display_data",
          "data": {
            "text/plain": [
              "<Figure size 432x288 with 1 Axes>"
            ],
            "image/png": "[encoded data removed]"
          },
          "metadata": {
            "needs_background": "light"
          }
        }
      ]
    },
    {
      "cell_type": "code",
      "source": [],
      "metadata": {
        "id": "SlxY1HVa5qti"
      },
      "execution_count": null,
      "outputs": []
    },
    {
      "cell_type": "code",
      "source": [
        "# RNN -> NLP 세호님 [진수님 끌리심] -> ㅣ\n",
        "# Pytorch Lightning -> Pytorch 보다 더 간단하게 사용할 수 있는 라이브러리 wandb [진수님 끌리심]\n",
        "# Computer Vision -> Model, Data Augmentation, Segmentation"
      ],
      "metadata": {
        "id": "ZvP1AjVYLFA-"
      },
      "execution_count": null,
      "outputs": []
    }
  ]
}