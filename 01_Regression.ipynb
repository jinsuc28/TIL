{
  "nbformat": 4,
  "nbformat_minor": 0,
  "metadata": {
    "colab": {
      "provenance": []
    },
    "kernelspec": {
      "name": "python3",
      "display_name": "Python 3"
    },
    "language_info": {
      "name": "python"
    },
    "accelerator": "GPU",
    "gpuClass": "standard"
  },
  "cells": [
    {
      "cell_type": "markdown",
      "source": [
        "# Regression w/ California Housing"
      ],
      "metadata": {
        "id": "Mc8idirAKixK"
      }
    },
    {
      "cell_type": "markdown",
      "source": [
        "### import"
      ],
      "metadata": {
        "id": "EhaER8zIKnpJ"
      }
    },
    {
      "cell_type": "code",
      "source": [
        "import numpy as np\n",
        "import pandas as pd\n",
        "\n",
        "import matplotlib.pyplot as plt\n",
        "import seaborn as sns"
      ],
      "metadata": {
        "id": "PO6pn_qsl_GA"
      },
      "execution_count": null,
      "outputs": []
    },
    {
      "cell_type": "code",
      "source": [
        "# import \n",
        "import torch\n",
        "import torch.nn as nn # class Model(nn.Module)\n",
        "from torch.utils.data import Dataset, DataLoader"
      ],
      "metadata": {
        "id": "0z20so1AxY9V"
      },
      "execution_count": null,
      "outputs": []
    },
    {
      "cell_type": "code",
      "source": [
        "from sklearn.datasets import fetch_california_housing\n",
        "\n",
        "ch =  fetch_california_housing()\n",
        "df = pd.DataFrame(ch.data, columns = ch.feature_names)\n",
        "df['target'] = ch.target\n",
        "print(df.shape)\n",
        "df.head()"
      ],
      "metadata": {
        "id": "nKZp9SOde8rS",
        "colab": {
          "base_uri": "https://localhost:8080/",
          "height": 224
        },
        "outputId": "36ef4bae-9b6e-4a64-e47e-f225cdea090b"
      },
      "execution_count": null,
      "outputs": [
        {
          "output_type": "stream",
          "name": "stdout",
          "text": [
            "(20640, 9)\n"
          ]
        },
        {
          "output_type": "execute_result",
          "data": {
            "text/plain": [
              "   MedInc  HouseAge  AveRooms  AveBedrms  Population  AveOccup  Latitude  \\\n",
              "0  8.3252      41.0  6.984127   1.023810       322.0  2.555556     37.88   \n",
              "1  8.3014      21.0  6.238137   0.971880      2401.0  2.109842     37.86   \n",
              "2  7.2574      52.0  8.288136   1.073446       496.0  2.802260     37.85   \n",
              "3  5.6431      52.0  5.817352   1.073059       558.0  2.547945     37.85   \n",
              "4  3.8462      52.0  6.281853   1.081081       565.0  2.181467     37.85   \n",
              "\n",
              "   Longitude  target  \n",
              "0    -122.23   4.526  \n",
              "1    -122.22   3.585  \n",
              "2    -122.24   3.521  \n",
              "3    -122.25   3.413  \n",
              "4    -122.25   3.422  "
            ],
            "text/html": [
              "\n",
              "  <div id=\"df-7ee30874-0241-4dc8-b8cc-064ae3018545\">\n",
              "    <div class=\"colab-df-container\">\n",
              "      <div>\n",
              "<style scoped>\n",
              "    .dataframe tbody tr th:only-of-type {\n",
              "        vertical-align: middle;\n",
              "    }\n",
              "\n",
              "    .dataframe tbody tr th {\n",
              "        vertical-align: top;\n",
              "    }\n",
              "\n",
              "    .dataframe thead th {\n",
              "        text-align: right;\n",
              "    }\n",
              "</style>\n",
              "<table border=\"1\" class=\"dataframe\">\n",
              "  <thead>\n",
              "    <tr style=\"text-align: right;\">\n",
              "      <th></th>\n",
              "      <th>MedInc</th>\n",
              "      <th>HouseAge</th>\n",
              "      <th>AveRooms</th>\n",
              "      <th>AveBedrms</th>\n",
              "      <th>Population</th>\n",
              "      <th>AveOccup</th>\n",
              "      <th>Latitude</th>\n",
              "      <th>Longitude</th>\n",
              "      <th>target</th>\n",
              "    </tr>\n",
              "  </thead>\n",
              "  <tbody>\n",
              "    <tr>\n",
              "      <th>0</th>\n",
              "      <td>8.3252</td>\n",
              "      <td>41.0</td>\n",
              "      <td>6.984127</td>\n",
              "      <td>1.023810</td>\n",
              "      <td>322.0</td>\n",
              "      <td>2.555556</td>\n",
              "      <td>37.88</td>\n",
              "      <td>-122.23</td>\n",
              "      <td>4.526</td>\n",
              "    </tr>\n",
              "    <tr>\n",
              "      <th>1</th>\n",
              "      <td>8.3014</td>\n",
              "      <td>21.0</td>\n",
              "      <td>6.238137</td>\n",
              "      <td>0.971880</td>\n",
              "      <td>2401.0</td>\n",
              "      <td>2.109842</td>\n",
              "      <td>37.86</td>\n",
              "      <td>-122.22</td>\n",
              "      <td>3.585</td>\n",
              "    </tr>\n",
              "    <tr>\n",
              "      <th>2</th>\n",
              "      <td>7.2574</td>\n",
              "      <td>52.0</td>\n",
              "      <td>8.288136</td>\n",
              "      <td>1.073446</td>\n",
              "      <td>496.0</td>\n",
              "      <td>2.802260</td>\n",
              "      <td>37.85</td>\n",
              "      <td>-122.24</td>\n",
              "      <td>3.521</td>\n",
              "    </tr>\n",
              "    <tr>\n",
              "      <th>3</th>\n",
              "      <td>5.6431</td>\n",
              "      <td>52.0</td>\n",
              "      <td>5.817352</td>\n",
              "      <td>1.073059</td>\n",
              "      <td>558.0</td>\n",
              "      <td>2.547945</td>\n",
              "      <td>37.85</td>\n",
              "      <td>-122.25</td>\n",
              "      <td>3.413</td>\n",
              "    </tr>\n",
              "    <tr>\n",
              "      <th>4</th>\n",
              "      <td>3.8462</td>\n",
              "      <td>52.0</td>\n",
              "      <td>6.281853</td>\n",
              "      <td>1.081081</td>\n",
              "      <td>565.0</td>\n",
              "      <td>2.181467</td>\n",
              "      <td>37.85</td>\n",
              "      <td>-122.25</td>\n",
              "      <td>3.422</td>\n",
              "    </tr>\n",
              "  </tbody>\n",
              "</table>\n",
              "</div>\n",
              "      <button class=\"colab-df-convert\" onclick=\"convertToInteractive('df-7ee30874-0241-4dc8-b8cc-064ae3018545')\"\n",
              "              title=\"Convert this dataframe to an interactive table.\"\n",
              "              style=\"display:none;\">\n",
              "        \n",
              "  <svg xmlns=\"http://www.w3.org/2000/svg\" height=\"24px\"viewBox=\"0 0 24 24\"\n",
              "       width=\"24px\">\n",
              "    <path d=\"M0 0h24v24H0V0z\" fill=\"none\"/>\n",
              "    <path d=\"M18.56 5.44l.94 2.06.94-2.06 2.06-.94-2.06-.94-.94-2.06-.94 2.06-2.06.94zm-11 1L8.5 8.5l.94-2.06 2.06-.94-2.06-.94L8.5 2.5l-.94 2.06-2.06.94zm10 10l.94 2.06.94-2.06 2.06-.94-2.06-.94-.94-2.06-.94 2.06-2.06.94z\"/><path d=\"M17.41 7.96l-1.37-1.37c-.4-.4-.92-.59-1.43-.59-.52 0-1.04.2-1.43.59L10.3 9.45l-7.72 7.72c-.78.78-.78 2.05 0 2.83L4 21.41c.39.39.9.59 1.41.59.51 0 1.02-.2 1.41-.59l7.78-7.78 2.81-2.81c.8-.78.8-2.07 0-2.86zM5.41 20L4 18.59l7.72-7.72 1.47 1.35L5.41 20z\"/>\n",
              "  </svg>\n",
              "      </button>\n",
              "      \n",
              "  <style>\n",
              "    .colab-df-container {\n",
              "      display:flex;\n",
              "      flex-wrap:wrap;\n",
              "      gap: 12px;\n",
              "    }\n",
              "\n",
              "    .colab-df-convert {\n",
              "      background-color: #E8F0FE;\n",
              "      border: none;\n",
              "      border-radius: 50%;\n",
              "      cursor: pointer;\n",
              "      display: none;\n",
              "      fill: #1967D2;\n",
              "      height: 32px;\n",
              "      padding: 0 0 0 0;\n",
              "      width: 32px;\n",
              "    }\n",
              "\n",
              "    .colab-df-convert:hover {\n",
              "      background-color: #E2EBFA;\n",
              "      box-shadow: 0px 1px 2px rgba(60, 64, 67, 0.3), 0px 1px 3px 1px rgba(60, 64, 67, 0.15);\n",
              "      fill: #174EA6;\n",
              "    }\n",
              "\n",
              "    [theme=dark] .colab-df-convert {\n",
              "      background-color: #3B4455;\n",
              "      fill: #D2E3FC;\n",
              "    }\n",
              "\n",
              "    [theme=dark] .colab-df-convert:hover {\n",
              "      background-color: #434B5C;\n",
              "      box-shadow: 0px 1px 3px 1px rgba(0, 0, 0, 0.15);\n",
              "      filter: drop-shadow(0px 1px 2px rgba(0, 0, 0, 0.3));\n",
              "      fill: #FFFFFF;\n",
              "    }\n",
              "  </style>\n",
              "\n",
              "      <script>\n",
              "        const buttonEl =\n",
              "          document.querySelector('#df-7ee30874-0241-4dc8-b8cc-064ae3018545 button.colab-df-convert');\n",
              "        buttonEl.style.display =\n",
              "          google.colab.kernel.accessAllowed ? 'block' : 'none';\n",
              "\n",
              "        async function convertToInteractive(key) {\n",
              "          const element = document.querySelector('#df-7ee30874-0241-4dc8-b8cc-064ae3018545');\n",
              "          const dataTable =\n",
              "            await google.colab.kernel.invokeFunction('convertToInteractive',\n",
              "                                                     [key], {});\n",
              "          if (!dataTable) return;\n",
              "\n",
              "          const docLinkHtml = 'Like what you see? Visit the ' +\n",
              "            '<a target=\"_blank\" href=https://colab.research.google.com/notebooks/data_table.ipynb>data table notebook</a>'\n",
              "            + ' to learn more about interactive tables.';\n",
              "          element.innerHTML = '';\n",
              "          dataTable['output_type'] = 'display_data';\n",
              "          await google.colab.output.renderOutput(dataTable, element);\n",
              "          const docLink = document.createElement('div');\n",
              "          docLink.innerHTML = docLinkHtml;\n",
              "          element.appendChild(docLink);\n",
              "        }\n",
              "      </script>\n",
              "    </div>\n",
              "  </div>\n",
              "  "
            ]
          },
          "metadata": {},
          "execution_count": 3
        }
      ]
    },
    {
      "cell_type": "code",
      "source": [],
      "metadata": {
        "id": "u8vIqcKykUPM"
      },
      "execution_count": null,
      "outputs": []
    },
    {
      "cell_type": "markdown",
      "source": [
        "## Set SEED"
      ],
      "metadata": {
        "id": "9F58ty-DHxkZ"
      }
    },
    {
      "cell_type": "code",
      "source": [
        "import os\n",
        "def set_seed(seed=42):\n",
        "    '''Sets the seed of the entire notebook so results are the same every time we run.\n",
        "    This is for REPRODUCIBILITY.'''\n",
        "    np.random.seed(seed)\n",
        "    torch.manual_seed(seed)\n",
        "    torch.cuda.manual_seed(seed)\n",
        "    # When Running on the CuDNN backend, two further options muset be set\n",
        "    torch.backends.cudnn.deteministic =True\n",
        "    torch.backends.cudnn.benchmark = False\n",
        "    # Set a fixed value for the hash seed\n",
        "    os.environ['PYTHONHASHSEED'] = str(seed)\n",
        "    \n",
        "# print(config['seed'])\n",
        "set_seed(2022)"
      ],
      "metadata": {
        "execution": {
          "iopub.status.busy": "2022-08-07T07:15:06.960866Z",
          "iopub.execute_input": "2022-08-07T07:15:06.961983Z",
          "iopub.status.idle": "2022-08-07T07:15:06.972794Z",
          "shell.execute_reply.started": "2022-08-07T07:15:06.961947Z",
          "shell.execute_reply": "2022-08-07T07:15:06.971728Z"
        },
        "trusted": true,
        "id": "XQaLA3rwHxka"
      },
      "execution_count": null,
      "outputs": []
    },
    {
      "cell_type": "markdown",
      "source": [
        "### Dataset -> DataLoader"
      ],
      "metadata": {
        "id": "9lzMdxMpMtR-"
      }
    },
    {
      "cell_type": "code",
      "source": [
        "class MyDataset(Dataset):\n",
        "    def __init__(self, df = df):\n",
        "        self.df = df\n",
        "        self.x = df.iloc[:, :-1].values # numpy\n",
        "        self.y = df.iloc[:, -1:].values # numpy\n",
        "\n",
        "    # Dataset 상속시 오버라이드 1\n",
        "    def __len__(self):\n",
        "        # 데이터셋의 전체 길이 정보(= all rows)를 반환\n",
        "        return self.x.shape[0] # len(self.df)\n",
        "\n",
        "    # Dataset 상속시 오버라이드 2\n",
        "    def __getitem__(self, index):   \n",
        "        # index로 row를 특정하고 x, y를 뱉어줍니다.\n",
        "        x = self.x[index] # 8\n",
        "        y = self.y[index] # 1\n",
        "        # return x, y\n",
        "        return torch.tensor(x, dtype = torch.float), torch.tensor(y, dtype = torch.float)\n",
        "        "
      ],
      "metadata": {
        "id": "XTil80jQBO8Y"
      },
      "execution_count": null,
      "outputs": []
    },
    {
      "cell_type": "code",
      "source": [
        "ds = MyDataset()\n",
        "s = next(iter(ds))\n",
        "s[0].shape, s[1].shape"
      ],
      "metadata": {
        "colab": {
          "base_uri": "https://localhost:8080/"
        },
        "id": "25vajH5dieNP",
        "outputId": "a85150f4-2aad-400d-ce23-74846b8ebb83"
      },
      "execution_count": null,
      "outputs": [
        {
          "output_type": "execute_result",
          "data": {
            "text/plain": [
              "(torch.Size([8]), torch.Size([1]))"
            ]
          },
          "metadata": {},
          "execution_count": 14
        }
      ]
    },
    {
      "cell_type": "code",
      "source": [
        "def prepare_loaders(df = df, bs= 256, index_num = 15640):\n",
        "    # 1) Train, Valid Split\n",
        "    train = df[:index_num].reset_index(drop=True)\n",
        "    valid = df[index_num:].reset_index(drop=True)\n",
        "    # 2) MyDATASET\n",
        "    train_ds = MyDataset(df = train)\n",
        "    valid_ds = MyDataset(df = valid)\n",
        "    # 3) DataLoader\n",
        "    train_loader = DataLoader(train_ds, batch_size = bs, shuffle = True, \n",
        "                            #   drop_last = True,\n",
        "                            # pin_memory = True, num_workers = 2, # 저만의 공식: 내 컴이 아니면 쓴다.\n",
        "                              )\n",
        "    \n",
        "    valid_loader = DataLoader(valid_ds, batch_size = bs, shuffle = True)\n",
        "    print(\"DataLoader COmpleted\")\n",
        "    return train_loader, valid_loader"
      ],
      "metadata": {
        "id": "wcYeEcd8BO6G"
      },
      "execution_count": null,
      "outputs": []
    },
    {
      "cell_type": "code",
      "source": [
        "train_loader, valid_loader =prepare_loaders(df = df, bs= 256, index_num = 15640)"
      ],
      "metadata": {
        "id": "-4m0eTSfBO3Y",
        "colab": {
          "base_uri": "https://localhost:8080/"
        },
        "outputId": "124a340c-0bd2-44dd-ecb2-915571de0dff"
      },
      "execution_count": null,
      "outputs": [
        {
          "output_type": "stream",
          "name": "stdout",
          "text": [
            "DataLoader COmpleted\n"
          ]
        }
      ]
    },
    {
      "cell_type": "code",
      "source": [
        "s = next(iter(train_loader))\n",
        "s[0].shape, s[1].shape"
      ],
      "metadata": {
        "id": "4HQk9YMW6ADQ",
        "colab": {
          "base_uri": "https://localhost:8080/"
        },
        "outputId": "e21e7dba-5898-4fe5-9911-f7ed66a2d741"
      },
      "execution_count": null,
      "outputs": [
        {
          "output_type": "execute_result",
          "data": {
            "text/plain": [
              "(torch.Size([256, 8]), torch.Size([256, 1]))"
            ]
          },
          "metadata": {},
          "execution_count": 17
        }
      ]
    },
    {
      "cell_type": "code",
      "source": [],
      "metadata": {
        "id": "TcaITsa8kTR2"
      },
      "execution_count": null,
      "outputs": []
    },
    {
      "cell_type": "markdown",
      "source": [
        "### Model\n"
      ],
      "metadata": {
        "id": "XsqLfUbfKvtI"
      }
    },
    {
      "cell_type": "code",
      "source": [
        "device = torch.device(\"cuda:0\") if torch.cuda.is_available() else torch.device(\"cpu\")\n",
        "# model, parameter, ... 친구들 GPU로 보내서 연산을 시켜주는 목적"
      ],
      "metadata": {
        "id": "fpEqtKNRyBkN"
      },
      "execution_count": null,
      "outputs": []
    },
    {
      "cell_type": "code",
      "source": [
        "torch.cuda.is_available()"
      ],
      "metadata": {
        "id": "jcl_ITM7nS41",
        "colab": {
          "base_uri": "https://localhost:8080/"
        },
        "outputId": "0d2a9fd5-d2cc-4667-f663-0ba992983952"
      },
      "execution_count": null,
      "outputs": [
        {
          "output_type": "execute_result",
          "data": {
            "text/plain": [
              "True"
            ]
          },
          "metadata": {},
          "execution_count": 22
        }
      ]
    },
    {
      "cell_type": "code",
      "source": [
        "a = torch.randn(1, 2)\n",
        "a"
      ],
      "metadata": {
        "id": "uwDr1AHEBQ06",
        "colab": {
          "base_uri": "https://localhost:8080/"
        },
        "outputId": "c91a5c1d-1b56-4b9d-baeb-656dd2ee1244"
      },
      "execution_count": null,
      "outputs": [
        {
          "output_type": "execute_result",
          "data": {
            "text/plain": [
              "tensor([[-0.2044, -0.9081]])"
            ]
          },
          "metadata": {},
          "execution_count": 23
        }
      ]
    },
    {
      "cell_type": "code",
      "source": [
        "b = a.to(device)\n",
        "b"
      ],
      "metadata": {
        "id": "zHVD3VsIBQtt",
        "colab": {
          "base_uri": "https://localhost:8080/"
        },
        "outputId": "a565bc62-5fc2-4999-d198-14d879e405ec"
      },
      "execution_count": null,
      "outputs": [
        {
          "output_type": "execute_result",
          "data": {
            "text/plain": [
              "tensor([[-0.2044, -0.9081]], device='cuda:0')"
            ]
          },
          "metadata": {},
          "execution_count": 24
        }
      ]
    },
    {
      "cell_type": "code",
      "source": [
        "class Model(nn.Module):\n",
        "    def __init__(self, input_dim =8, output_dim=1):\n",
        "        super().__init__()\n",
        "\n",
        "        # frame을 선언\n",
        "        # shape 추적 필수\n",
        "        # x(=input): shape? [bs, 8]\n",
        "        self.fc1  = nn.Linear(input_dim, 4)\n",
        "        # [bs, 8] -> [bs, 4]\n",
        "\n",
        "        self.relu = nn.ReLU()\n",
        "        # [bs, 4] -> [bs, 4]\n",
        "\n",
        "        self.fc2 = nn.Linear(4, output_dim)\n",
        "        # [bs, 4] -> [bs, 1]\n",
        "\n",
        "\n",
        "    # nn.Module 상속시 반드시 오버라이드\n",
        "    def forward(self, x):\n",
        "        # 엮어주기 함수처럼\n",
        "        y = self.fc2(self.relu(self.fc1(x)))\n",
        "        return y\n"
      ],
      "metadata": {
        "id": "hpms482GkrP9"
      },
      "execution_count": null,
      "outputs": []
    },
    {
      "cell_type": "code",
      "source": [
        "model = Model().to(device)\n",
        "model"
      ],
      "metadata": {
        "colab": {
          "base_uri": "https://localhost:8080/"
        },
        "id": "_kw6PBqdkrN1",
        "outputId": "4c5f533e-4ecf-4f8c-82f1-7bd41def76c9"
      },
      "execution_count": null,
      "outputs": [
        {
          "output_type": "execute_result",
          "data": {
            "text/plain": [
              "Model(\n",
              "  (fc1): Linear(in_features=8, out_features=4, bias=True)\n",
              "  (relu): ReLU()\n",
              "  (fc2): Linear(in_features=4, out_features=1, bias=True)\n",
              ")"
            ]
          },
          "metadata": {},
          "execution_count": 26
        }
      ]
    },
    {
      "cell_type": "code",
      "source": [],
      "metadata": {
        "id": "l5LEO0RBkrD3"
      },
      "execution_count": null,
      "outputs": []
    },
    {
      "cell_type": "markdown",
      "source": [
        "### Lossfunction, Optimizer"
      ],
      "metadata": {
        "id": "etL7qal6KyQ8"
      }
    },
    {
      "cell_type": "code",
      "source": [
        "loss_fn = nn.MSELoss().to(device)"
      ],
      "metadata": {
        "id": "SeIRxEDbBYLi"
      },
      "execution_count": null,
      "outputs": []
    },
    {
      "cell_type": "code",
      "source": [
        "optimizer = torch.optim.Adam(model.parameters(), \n",
        "                            #  lr= \n",
        "                             )\n",
        "#.to(device)"
      ],
      "metadata": {
        "id": "Ou1SkLTTBYIw"
      },
      "execution_count": null,
      "outputs": []
    },
    {
      "cell_type": "markdown",
      "source": [
        "### train_one_epoch"
      ],
      "metadata": {
        "id": "dqLM3JwGK4KV"
      }
    },
    {
      "cell_type": "code",
      "source": [
        "epoch= 1\n",
        "def train_one_epoch(model = model, dataloader = train_loader, device = device,\n",
        "                    loss_fn = loss_fn, optimizer = optimizer, epoch = epoch):\n",
        "    # model 학습시키겠다는 의지 표명\n",
        "    model.train()\n",
        "    train_loss = 0\n",
        "    for data in dataloader:\n",
        "        # train_loader =[[bs, 8], [bs, 8], [bs, 8], ....]\n",
        "        x = data[0].to(device) # x: [bs, 8]\n",
        "        y = data[1].to(device) # y: [bs, 1]\n",
        "        y_pred = model(x) # y_pred: [bs, 1]\n",
        "\n",
        "        loss = loss_fn(y_pred, y)\n",
        "\n",
        "        # 딥러닝에서 가장 중요한 짓\n",
        "        optimizer.zero_grad()\n",
        "        loss.backward()\n",
        "        optimizer.step()\n",
        "\n",
        "        train_loss += loss.item()\n",
        "    train_loss /= len(dataloader)\n",
        "    return train_loss"
      ],
      "metadata": {
        "id": "clwh8b3GK7R4"
      },
      "execution_count": null,
      "outputs": []
    },
    {
      "cell_type": "code",
      "source": [],
      "metadata": {
        "id": "ia-BhwFCBbvv"
      },
      "execution_count": null,
      "outputs": []
    },
    {
      "cell_type": "markdown",
      "source": [
        "### valid one epoch"
      ],
      "metadata": {
        "id": "sK6Ui3l8K70p"
      }
    },
    {
      "cell_type": "code",
      "source": [
        "epoch= 1\n",
        "\n",
        "# model을 학습 시키지 않겠다는 필수 의지 표명 2\n",
        "@torch.no_grad()\n",
        "def valid_one_epoch(model = model, dataloader = valid_loader, device = device,\n",
        "                    loss_fn = loss_fn, epoch = epoch):\n",
        "    # model 학습 안 시키겠다는 의지 표명\n",
        "    model.eval()\n",
        "    valid_loss = 0\n",
        "\n",
        "    # model을 학습 시키지 않겠다는 필수 의지 표명 1\n",
        "    with torch.no_grad():\n",
        "        for data in dataloader:\n",
        "            # train_loader =[[bs, 8], [bs, 8], [bs, 8], ....]\n",
        "            x = data[0].to(device) # x: [bs, 8]\n",
        "            y = data[1].to(device) # y: [bs, 1]\n",
        "            y_pred = model(x) # y_pred: [bs, 1]\n",
        "\n",
        "            loss = loss_fn(y_pred, y)\n",
        "\n",
        "            valid_loss += loss.item()\n",
        "\n",
        "    valid_loss /= len(dataloader)\n",
        "\n",
        "    return valid_loss"
      ],
      "metadata": {
        "id": "-Gx8laadBbP-"
      },
      "execution_count": null,
      "outputs": []
    },
    {
      "cell_type": "code",
      "source": [],
      "metadata": {
        "id": "WIwqj2bFxvsq"
      },
      "execution_count": null,
      "outputs": []
    },
    {
      "cell_type": "markdown",
      "source": [
        "### Run Train"
      ],
      "metadata": {
        "id": "YepXVegmK-m-"
      }
    },
    {
      "cell_type": "code",
      "source": [
        "def run_train(model = model, train_loader = train_loader, valid_loader = valid_loader,\n",
        "              device = device, loss_fn = loss_fn, optimizer = optimizer, n_epochs = 120):\n",
        "    \n",
        "    result = dict()\n",
        "    train_hs, valid_hs = [],  []\n",
        "    print_iter = 10\n",
        "    early_stop = 20\n",
        "    lowest_loss, lowest_epoch = np.inf, np.inf\n",
        "\n",
        "    for epoch in range(1, 1 + n_epochs):\n",
        "\n",
        "        train_loss = train_one_epoch(model = model, dataloader = train_loader, device = device,\n",
        "                                     loss_fn = loss_fn, optimizer = optimizer, epoch = epoch)\n",
        "        valid_loss = valid_one_epoch(model = model, dataloader = valid_loader, device = device,\n",
        "                                     loss_fn = loss_fn, epoch = epoch)\n",
        "        \n",
        "        # 줍줍\n",
        "        train_hs += [train_loss]\n",
        "        valid_hs.append(valid_loss)\n",
        "\n",
        "        # monitoring\n",
        "        if epoch % print_iter == 0:\n",
        "            print(f\"Epoch{epoch:02d}|TL:{train_loss:.3e}|VL:{valid_loss:.3e}|LL:{lowest_loss:.3e}|\")\n",
        "        \n",
        "        # Lowest Loss 갱싱  -> Valid Loss 기준\n",
        "        if valid_loss < lowest_loss:\n",
        "            lowest_loss = valid_loss\n",
        "            lowest_epoch = epoch\n",
        "            torch.save(model.state_dict(), './model.pt') # bin -> 큰 모델 \n",
        "        else:\n",
        "            if early_stop > 0 and lowest_epoch + early_stop < epoch:\n",
        "                print(\"넌 삽질 중\")\n",
        "                break\n",
        "\n",
        "    print(f\"The Best Validation Loss: {lowest_loss:.4f} at {lowest_epoch:02d} EPoch\")\n",
        "\n",
        "    # model load\n",
        "    model.load_state_dict(torch.load('./model.pt'))\n",
        "\n",
        "    result[\"Train Loss\"] = train_hs\n",
        "    result[\"Valid Loss\"] = valid_hs\n",
        "\n",
        "    return model, result"
      ],
      "metadata": {
        "id": "ymkrRwc9Ba9X"
      },
      "execution_count": null,
      "outputs": []
    },
    {
      "cell_type": "code",
      "source": [
        "model, result = run_train()"
      ],
      "metadata": {
        "id": "KtueE-0MBa6_",
        "colab": {
          "base_uri": "https://localhost:8080/"
        },
        "outputId": "4d24f43b-091e-4246-ea9f-4a17ee354ac3"
      },
      "execution_count": null,
      "outputs": [
        {
          "output_type": "stream",
          "name": "stdout",
          "text": [
            "Epoch10|TL:6.642e-01|VL:8.048e-01|LL:7.995e-01|\n",
            "Epoch20|TL:6.511e-01|VL:7.846e-01|LL:7.869e-01|\n",
            "Epoch30|TL:6.269e-01|VL:7.594e-01|LL:7.552e-01|\n",
            "Epoch40|TL:6.085e-01|VL:7.905e-01|LL:7.490e-01|\n",
            "Epoch50|TL:6.283e-01|VL:8.927e-01|LL:7.487e-01|\n",
            "Epoch60|TL:5.936e-01|VL:7.567e-01|LL:7.403e-01|\n",
            "Epoch70|TL:6.004e-01|VL:8.182e-01|LL:7.225e-01|\n",
            "Epoch80|TL:5.820e-01|VL:8.061e-01|LL:7.225e-01|\n",
            "넌 삽질 중\n",
            "The Best Validation Loss: 0.7225 at 65 EPoch\n"
          ]
        }
      ]
    },
    {
      "cell_type": "markdown",
      "source": [
        "### Visualization"
      ],
      "metadata": {
        "id": "IbJI6D5BLBRF"
      }
    },
    {
      "cell_type": "code",
      "source": [
        "## Train/Valid History\n",
        "plot_from = 0\n",
        "plt.figure(figsize=(20, 10))\n",
        "plt.title(\"Train/Valid Loss History\", fontsize = 20)\n",
        "plt.plot(\n",
        "    range(0, len(result['Train Loss'][plot_from:])), \n",
        "    result['Train Loss'][plot_from:], \n",
        "    label = 'Train Loss'\n",
        "    )\n",
        "\n",
        "plt.plot(\n",
        "    range(0, len(result['Valid Loss'][plot_from:])), \n",
        "    result['Valid Loss'][plot_from:], \n",
        "    label = 'Valid Loss'\n",
        "    )\n",
        "\n",
        "plt.legend()\n",
        "plt.yscale('log')\n",
        "plt.grid(True)\n",
        "plt.show()"
      ],
      "metadata": {
        "id": "JJCApV4legmt",
        "colab": {
          "base_uri": "https://localhost:8080/",
          "height": 612
        },
        "outputId": "5210f6ac-6d3b-4eb8-fd16-f49175589a17"
      },
      "execution_count": null,
      "outputs": [
        {
          "output_type": "display_data",
          "data": {
            "text/plain": [
              "<Figure size 1440x720 with 1 Axes>"
            ],
            "image/png": "[encoded data removed]"
          },
          "metadata": {
            "needs_background": "light"
          }
        }
      ]
    },
    {
      "cell_type": "code",
      "source": [
        " "
      ],
      "metadata": {
        "id": "vA9AINpZLFGl"
      },
      "execution_count": null,
      "outputs": []
    },
    {
      "cell_type": "code",
      "source": [],
      "metadata": {
        "id": "ZvP1AjVYLFA-"
      },
      "execution_count": null,
      "outputs": []
    }
  ]
}